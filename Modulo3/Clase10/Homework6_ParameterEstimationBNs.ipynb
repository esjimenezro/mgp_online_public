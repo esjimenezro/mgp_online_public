{
 "cells": [
  {
   "cell_type": "markdown",
   "metadata": {},
   "source": [
    "# Parameter Estimation in Bayesian Networks\n",
    "\n",
    "<img style=\"float: right; margin: 0px 0px 15px 15px;\" src=\"https://upload.wikimedia.org/wikipedia/commons/d/d5/Hey_Machine_Learning_Logo.png\" width=\"400px\" height=\"400px\" />\n",
    "\n",
    "> In the sixth and last homework you will obtain some formulas for parameter estimation we used in class.\n",
    "\n",
    "> Develop the demonstrations in $\\LaTeX$, and please, be as clear as possible.\n",
    "\n",
    "> If further questions arise, please use the slack channel, or write me to esjimenezro@iteso.mx.\n",
    "\n",
    "\n",
    "<p style=\"text-align:right;\"> Imagen recuperada de: https://upload.wikimedia.org/wikipedia/commons/d/d5/Hey_Machine_Learning_Logo.png.</p>\n",
    "\n",
    "___"
   ]
  },
  {
   "cell_type": "markdown",
   "metadata": {},
   "source": [
    "# 1. MLE of probabilities in multinomial distribution\n",
    "\n",
    "In this case we have:\n",
    "\n",
    "- Random variable $X$ with $\\mathrm{Val}(X)=\\{x^1, \\dots, x^{k}\\}$.\n",
    "\n",
    "- $P(X=x^i)=\\theta_i$ for $i\\in\\{1,\\dots,k\\}$.\n",
    "\n",
    "- $\\sum_{i=1}^{k}\\theta_i=1$."
   ]
  },
  {
   "cell_type": "markdown",
   "metadata": {},
   "source": [
    "We assume that the data instances \n",
    "\n",
    "$$\\mathcal{D} = \\{x[1], \\dots, x[M]\\}$$\n",
    "\n",
    "are independently draw from this distribution, and are such that:\n",
    "\n",
    "- $x^1$ appears $M_1$ times,\n",
    "- ...,\n",
    "- $x^i$ appears $M_i$ times,\n",
    "- ...,\n",
    "- $x^k$ appears $M_k$ times.\n",
    "\n",
    "with $M=\\sum_{j=1}^{k}M_j$."
   ]
  },
  {
   "cell_type": "markdown",
   "metadata": {},
   "source": [
    "Show that the maximum likelihood estimator (MLE) of $\\theta_i$ is:\n",
    "\n",
    "$$\\hat{\\theta_i} = \\frac{M_i}{\\sum_{j=1}^{k} M_j} = \\frac{M_i}{M},$$\n",
    "\n",
    "this is, the fraction of times $x^i$ appears in the data.\n",
    "\n",
    "*Hint. Use a KKT conditions to enforce the constraint* $\\sum_{i=1}^{k}\\theta_i=1$, *or replace the condition from the beginning in the log-likelihood.*"
   ]
  },
  {
   "cell_type": "markdown",
   "metadata": {},
   "source": []
  },
  {
   "cell_type": "markdown",
   "metadata": {},
   "source": []
  },
  {
   "cell_type": "markdown",
   "metadata": {},
   "source": []
  },
  {
   "cell_type": "markdown",
   "metadata": {},
   "source": []
  },
  {
   "cell_type": "markdown",
   "metadata": {},
   "source": [
    "# 2. MLE of parameters in a Gaussian distribution"
   ]
  },
  {
   "cell_type": "markdown",
   "metadata": {},
   "source": [
    "In this case we have:\n",
    "\n",
    "- Random variable $X \\sim \\mathcal{N}(\\mu, \\sigma^2)$.\n",
    "\n",
    "- $p(x;\\mu,\\sigma^2)=\\frac{1}{\\sqrt{2 \\pi}} \\exp\\left(-\\frac{(x-\\mu)^2}{2\\sigma^2}\\right)$."
   ]
  },
  {
   "cell_type": "markdown",
   "metadata": {},
   "source": [
    "We assume that the data instances \n",
    "\n",
    "$$\\mathcal{D} = \\{x[1], \\dots, x[M]\\}$$\n",
    "\n",
    "are independently drawn from this distribution."
   ]
  },
  {
   "cell_type": "markdown",
   "metadata": {},
   "source": [
    "Show that the MLE estimators of $\\mu$ and $\\sigma$ are:\n",
    "\n",
    "$$\\hat{\\mu} = \\frac{1}{M} \\sum_{j=1}^{M}x[j] \\qquad \\text{and} \\qquad \\hat{\\sigma}=\\sqrt{\\frac{1}{M}\\sum_{j=1}^{M}(x[j]-\\hat{\\mu})^2}.$$"
   ]
  },
  {
   "cell_type": "markdown",
   "metadata": {},
   "source": []
  },
  {
   "cell_type": "markdown",
   "metadata": {},
   "source": []
  },
  {
   "cell_type": "markdown",
   "metadata": {},
   "source": []
  },
  {
   "cell_type": "markdown",
   "metadata": {},
   "source": []
  },
  {
   "cell_type": "markdown",
   "metadata": {},
   "source": [
    "# 3. MLE and Bayesian estimation in a BN"
   ]
  },
  {
   "cell_type": "markdown",
   "metadata": {},
   "source": [
    "The file `flower_model_samples.csv` contains samples from the flower model below:"
   ]
  },
  {
   "cell_type": "code",
   "execution_count": 1,
   "metadata": {},
   "outputs": [],
   "source": [
    "from IPython.display import Image"
   ]
  },
  {
   "cell_type": "code",
   "execution_count": 2,
   "metadata": {},
   "outputs": [
    {
     "data": {
      "image/png": "[encoded data removed]",
      "text/plain": [
       "<IPython.core.display.Image object>"
      ]
     },
     "execution_count": 2,
     "metadata": {},
     "output_type": "execute_result"
    }
   ],
   "source": [
    "Image(\"figures/iris.png\")"
   ]
  },
  {
   "cell_type": "markdown",
   "metadata": {},
   "source": [
    "1. Estimate the parameters of the model using the MLE estimator."
   ]
  },
  {
   "cell_type": "markdown",
   "metadata": {},
   "source": [
    "2. Estimate the parameters of the model using the Bayesian estimator with Dirichlet priors with equal assignment (equivalent sample size of $\\alpha=1, 10, 100, 1000$) over all possible assignments of the CPDs."
   ]
  },
  {
   "cell_type": "markdown",
   "metadata": {},
   "source": [
    "3. Assume that you are not given the variable Type (T).\n",
    "  - Find the MAP assignment for the variable T given the others, for the model with parameters estimated via MLE.\n",
    "  - Find the MAP assignment for the variable T given the others, for the model with parameters estimated via Bayesian estimator (equivalent sample size of $\\alpha=1, 10, 100, 1000$).\n",
    "  - Which model predicts T better?"
   ]
  },
  {
   "cell_type": "code",
   "execution_count": null,
   "metadata": {},
   "outputs": [],
   "source": []
  },
  {
   "cell_type": "code",
   "execution_count": null,
   "metadata": {},
   "outputs": [],
   "source": []
  },
  {
   "cell_type": "code",
   "execution_count": null,
   "metadata": {},
   "outputs": [],
   "source": []
  },
  {
   "cell_type": "code",
   "execution_count": null,
   "metadata": {},
   "outputs": [],
   "source": []
  },
  {
   "cell_type": "code",
   "execution_count": null,
   "metadata": {},
   "outputs": [],
   "source": []
  },
  {
   "cell_type": "code",
   "execution_count": null,
   "metadata": {},
   "outputs": [],
   "source": []
  },
  {
   "cell_type": "markdown",
   "metadata": {},
   "source": [
    "<script>\n",
    "  $(document).ready(function(){\n",
    "    $('div.prompt').hide();\n",
    "    $('div.back-to-top').hide();\n",
    "    $('nav#menubar').hide();\n",
    "    $('.breadcrumb').hide();\n",
    "    $('.hidden-print').hide();\n",
    "  });\n",
    "</script>\n",
    "\n",
    "<footer id=\"attribution\" style=\"float:right; color:#808080; background:#fff;\">\n",
    "Created with Jupyter by Esteban Jiménez Rodríguez.\n",
    "</footer>"
   ]
  }
 ],
 "metadata": {
  "kernelspec": {
   "display_name": "Python 3",
   "language": "python",
   "name": "python3"
  },
  "language_info": {
   "codemirror_mode": {
    "name": "ipython",
    "version": 3
   },
   "file_extension": ".py",
   "mimetype": "text/x-python",
   "name": "python",
   "nbconvert_exporter": "python",
   "pygments_lexer": "ipython3",
   "version": "3.7.6"
  }
 },
 "nbformat": 4,
 "nbformat_minor": 4
}
