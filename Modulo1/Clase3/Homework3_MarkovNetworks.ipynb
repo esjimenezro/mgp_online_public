{
 "cells": [
  {
   "cell_type": "markdown",
   "metadata": {},
   "source": [
    "# Markov Networks\n",
    "\n",
    "<img style=\"float: right; margin: 0px 0px 15px 15px;\" src=\"https://upload.wikimedia.org/wikipedia/en/7/7b/A_simple_Markov_network.png\" width=\"400px\" height=\"300px\" />\n",
    "\n",
    "In the third homework you will review some concepts about Markov Networks that we saw in class, and you will also learn more about some additional topics.\n",
    "\n",
    "For the theoretical exercises, please be as explicit and clear as possible. Furthermore, use the $\\LaTeX$ math mode that notebooks offer.\n",
    "\n",
    "If further questions arise, please use the slack channel, or write me to esjimenezro@iteso.mx.\n",
    "\n",
    "\n",
    "<p style=\"text-align:right;\"> Imagen recuperada de: https://upload.wikimedia.org/wikipedia/en/7/7b/A_simple_Markov_network.png.</p>\n",
    "\n",
    "___"
   ]
  },
  {
   "cell_type": "markdown",
   "metadata": {},
   "source": [
    "# 1. Logistic regression as CRFs\n",
    "\n",
    "Consider a CRF:\n",
    "\n",
    "- Over the binary RVs $\\bar{X}=\\{X_1, \\dots, X_n\\}$ and $\\bar{Y} = \\{Y\\}$.\n",
    "\n",
    "- There are pairwise edges between $Y$ and each $X_i$.\n",
    "\n",
    "- The factors are defined as:\n",
    "  \n",
    "  $$\\phi_i(Y, X_i)=\\exp(w_i \\boldsymbol{1}\\{X_i=1, Y=1\\}),$$\n",
    "  \n",
    "  where $w_i\\in\\mathbb{R}$ and $\\boldsymbol{1}$ stands for the indicator function.\n",
    "  \n",
    "- Moreover, there is a single-node factor $\\phi_0(Y)=\\exp(w_0 \\boldsymbol{1}\\{Y=1\\})$.\n",
    "  \n",
    "Show that the conditional probability distribution this CRF encodes corresponds to the logistic regression distribution:\n",
    "\n",
    "$$P(Y=1 | \\bar{x}) = \\frac{\\exp\\left(w_0 + \\sum_{i=1}^{n} w_i x_i\\right)}{1 + \\exp\\left(w_0 + \\sum_{i=1}^{n} w_i x_i\\right)}$$"
   ]
  },
  {
   "cell_type": "code",
   "execution_count": 2,
   "metadata": {},
   "outputs": [],
   "source": [
    "from IPython.display import Image"
   ]
  },
  {
   "cell_type": "code",
   "execution_count": 3,
   "metadata": {},
   "outputs": [
    {
     "data": {
      "image/png": "[encoded data removed]",
      "text/plain": [
       "<IPython.core.display.Image object>"
      ]
     },
     "execution_count": 3,
     "metadata": {},
     "output_type": "execute_result"
    }
   ],
   "source": [
    "Image(\"figures/LogisticCRF.png\")"
   ]
  },
  {
   "cell_type": "markdown",
   "metadata": {},
   "source": []
  },
  {
   "cell_type": "markdown",
   "metadata": {},
   "source": []
  },
  {
   "cell_type": "markdown",
   "metadata": {},
   "source": []
  },
  {
   "cell_type": "markdown",
   "metadata": {},
   "source": [
    "# 2. Log-linear model\n",
    "\n",
    "Can you rewrite the above CRF as a log-linear model?\n",
    "\n",
    "1. What are the form of the features?\n",
    "2. What are the parameters?\n",
    "3. What is the final CPD form as a log-linear model?"
   ]
  },
  {
   "cell_type": "markdown",
   "metadata": {},
   "source": []
  },
  {
   "cell_type": "markdown",
   "metadata": {},
   "source": []
  },
  {
   "cell_type": "markdown",
   "metadata": {},
   "source": []
  },
  {
   "cell_type": "markdown",
   "metadata": {},
   "source": [
    "# 3. Metric Markov random fields\n",
    "\n",
    "Read box 4.D (pages 127-128) and answer:\n",
    "\n",
    "1. Which are the trhee properties that a metric must satisfy?\n",
    "2. Give, at least, five examples of metric functions.\n",
    "3. What is a possible application of Metric MRFs?"
   ]
  },
  {
   "cell_type": "markdown",
   "metadata": {},
   "source": []
  },
  {
   "cell_type": "markdown",
   "metadata": {},
   "source": []
  },
  {
   "cell_type": "markdown",
   "metadata": {},
   "source": []
  },
  {
   "cell_type": "markdown",
   "metadata": {},
   "source": [
    "<script>\n",
    "  $(document).ready(function(){\n",
    "    $('div.prompt').hide();\n",
    "    $('div.back-to-top').hide();\n",
    "    $('nav#menubar').hide();\n",
    "    $('.breadcrumb').hide();\n",
    "    $('.hidden-print').hide();\n",
    "  });\n",
    "</script>\n",
    "\n",
    "<footer id=\"attribution\" style=\"float:right; color:#808080; background:#fff;\">\n",
    "Created with Jupyter by Esteban Jiménez Rodríguez.\n",
    "</footer>"
   ]
  }
 ],
 "metadata": {
  "kernelspec": {
   "display_name": "Python 3",
   "language": "python",
   "name": "python3"
  },
  "language_info": {
   "codemirror_mode": {
    "name": "ipython",
    "version": 3
   },
   "file_extension": ".py",
   "mimetype": "text/x-python",
   "name": "python",
   "nbconvert_exporter": "python",
   "pygments_lexer": "ipython3",
   "version": "3.7.6"
  }
 },
 "nbformat": 4,
 "nbformat_minor": 4
}
