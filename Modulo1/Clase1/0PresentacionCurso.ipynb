{
 "cells": [
  {
   "cell_type": "markdown",
   "metadata": {},
   "source": [
    "___\n",
    "<img style=\"float: right; margin: 0px 0px 15px 15px;\" src=\"https://p0.pikrepo.com/preview/226/186/artificial-intelligence-concept.jpg\" width=\"350px\" height=\"180px\" />\n",
    "\n",
    "\n",
    "# <font color= #8A0829> Introducción a los Modelos Gráficos Probabilísticos.</font>\n",
    "\n",
    "- <Strong> Esteban Jiménez Rodríguez </Strong>\n",
    "\n",
    "- <Strong> Copyright: </Strong> MIT (Exepto donde se indique lo contrario)\n",
    "\n",
    "- <Strong> Email: </Strong>  <font color=\"blue\"> `esjimenezro@iteso.mx, esjimenezro@gmail.com` </font>\n",
    "___\n",
    "\n",
    "<p style=\"text-align:right;\"> Imagen recuperada de: https://p0.pikrepo.com/preview/226/186/artificial-intelligence-concept.jpg.</p>"
   ]
  },
  {
   "cell_type": "markdown",
   "metadata": {},
   "source": [
    "### `Presentación mia`\n",
    "___"
   ]
  },
  {
   "cell_type": "markdown",
   "metadata": {},
   "source": [
    "### `Algunas reglas de juego`\n",
    "\n",
    "- **TODAS LAS ENTREGAS A TRAVÉS DE CANVAS, A MENOS QUE SE ESPECIFIQUE LO CONTRARIO**"
   ]
  },
  {
   "cell_type": "markdown",
   "metadata": {},
   "source": [
    "### `Horario de asesoría`\n",
    "\n",
    "- Por definir.\n",
    "___"
   ]
  },
  {
   "cell_type": "markdown",
   "metadata": {},
   "source": [
    "### `Descripción de la asignatura`\n",
    "\n",
    "- La mayoría de las tareas requieren de una **persona o un sistema automático que razone** (que llegue a conclusiones con base en la información disponible). \n",
    "\n",
    "- El enfoque de **modelos gráficos probabilísticos** constituye un esquema general para dar solución a esta problemática.\n",
    "\n",
    "- Es un enfoque basado en modelo, de manera que **puedan construirse modelos interpretables** y luego manipularlos por medio de algoritmos de razonamiento (inferencia). Dado que la incertidumbre es un aspecto inevitable de la mayoría de aplicaciones en la vida real, **los modelos que se consideran son probabilísticos**. \n",
    "\n",
    "- Los modelos gráficos probabilísticos son la base de varios métodos **estado del arte en varias aplicaciones** tales como diagnóstico médico, visión artificial, reconocimiento de voz, procesamiento de lenguaje natural y muchos otros más. Además , son una herramienta básica para la formulación de varios problemas de aprendizaje de máquinas."
   ]
  },
  {
   "cell_type": "markdown",
   "metadata": {},
   "source": [
    "### `Objetivos`\n",
    "\n",
    "- Modelar problemáticas/situaciones reales mediante grafos probabilísticos.\n",
    "- Responder preguntas de interés práctico acerca de las problemáticoas/situaciones modeladas usando algoritmos de inferencia.\n",
    "- Estimar los parámetros y/o estructura de los modelos usando técnicas de optimización."
   ]
  },
  {
   "cell_type": "markdown",
   "metadata": {},
   "source": [
    "### `Distribución del curso`\n",
    "\n",
    "Para alcanzar los anteriores objetivos se propone la siguiente distribución de las sesiones en el curso:"
   ]
  },
  {
   "cell_type": "markdown",
   "metadata": {},
   "source": [
    "#### Módulo 1. Representación.\n",
    "\n",
    "<img style=\"float: right; margin: 0px 0px 15px 15px;\" src=\"https://upload.wikimedia.org/wikipedia/commons/6/64/Nodos_de_una_Red_Bayesiana_Simple.svg\" width=\"300px\" height=\"100px\" />\n",
    "\n",
    "En este módulo aprenderemos acerca de las dos representaciones de modelos gráficos básicas: las redes Bayesianas (grafos dirigidos) y las redes de Markov (grafos no dirigidos). Estudiaremos tanto las propiedades teóricas de dichas representaciones así como su uso en la práctica. Adicionalmente, analizaremos una extensión importante de estas representaciones que nos permitirán representar procesos de toma de decisión.\n",
    "\n",
    "1. ¿Qué son los modelos gráficos probabilísticos?\n",
    "  - Introducción al curso y motivación.\n",
    "  - Instalación de herramientas de trabajo.\n",
    "  - Repaso de teoría de probabilidad.\n",
    "  - Tarea 1.\n",
    "  \n",
    "2. Redes Bayesianas.\n",
    "  - Quiz clase 1.\n",
    "  - Fundamentos:\n",
    "  - Operaciones con factores.\n",
    "      - Semántica y factorización.\n",
    "      - Flujo de influencia probabilística.\n",
    "  - Independencia e independencia condicional.\n",
    "  - Independencia en redes Bayesianas.\n",
    "  - Tarea 2.\n",
    "   \n",
    "3. Redes de Markov.\n",
    "  - Quiz clase 3.\n",
    "  - Fundamentos:\n",
    "      - Redes de Markov por pares.\n",
    "      - Distribución general de Gibbs.\n",
    "  - Independencias en redes de Markov y en redes Bayesianas.\n",
    "  - Tarea 3. \n",
    "\n",
    "4. Teoría de decisión.\n",
    "  - Quiz clase 4.\n",
    "  - Máxima utilidad esperada.\n",
    "  - Funciones de utilidad.\n",
    "  - Valor de información perfecta.\n",
    "  \n",
    "5. Evaluación módulo 1.\n",
    "\n",
    "<p style=\"text-align:right;\"> Imagen recuperada de: https://upload.wikimedia.org/wikipedia/commons/6/64/Nodos_de_una_Red_Bayesiana_Simple.svg.</p>"
   ]
  },
  {
   "cell_type": "markdown",
   "metadata": {},
   "source": [
    "#### Módulo 2. Inferencia.\n",
    "\n",
    "<img style=\"float: right; margin: 0px 0px 15px 15px;\" src=\"https://upload.wikimedia.org/wikipedia/commons/d/da/Kalman.png\" width=\"600px\" height=\"250px\" />\n",
    "\n",
    "A partir de lo aprendido en el primer módulo, en este módulo aprenderemos cómo responder preguntas usando los modelos gráficos probabilísticos. Aunque estos modelos pueden describir distribuciones de gran dimensión, su estructura está diseñada de manera que podamos usarlos para responder preguntas de manera eficiente. Estudiaremos tanto algoritmos exactos como aproximados para las distintas tareas de inferencia que puedan surgir, y discutiremos cuando es mejor aplicar una u otra. \n",
    "\n",
    "6. Algoritmo de eliminación de variables.\n",
    "  - Introducción a inferencia:\n",
    "      - Inferencia de probabilidades condicionales.\n",
    "      - Inferencia de MAP.\n",
    "  - Algoritmo de eliminación de variables:\n",
    "      - Descripción del algoritmo.\n",
    "      - Complejidad computacional.\n",
    "      - Orden de eliminación.\n",
    "  - Tarea 4.\n",
    "  \n",
    "7. Algoritmo de propagación de creencias.\n",
    "  - Quiz clase 7.\n",
    "  - Pasando mensajes en grafos clusterizados:\n",
    "      - Descripción del algoritmo.\n",
    "      - Propiedades.\n",
    "  - Pasando mensajes en árboles \"clique\".\n",
    "  \n",
    "8. Inferencia de MAP.\n",
    "  - Quiz clase 8.\n",
    "  - Algoritmo max-sum (eliminación de variables para MAP).\n",
    "  - Pasando mensajes para MAP.\n",
    "  - Un enfoque de optimización.\n",
    "  - Tarea 5.\n",
    "   \n",
    "9. Métodos de muestreo.\n",
    "  - Quiz clase 9.\n",
    "  - Muestreo en redes Bayesianas.\n",
    "  - Cadenas de Markov Montecarlo:\n",
    "      - ¿Qué son?.\n",
    "      - ¿Cómo se usan?.\n",
    "      - Algoritmo de muestreo de Gibbs.\n",
    "      - Algoritmo Metrópolis Hastings.\n",
    "  - Independencias en redes de Markov y en redes Bayesianas.\n",
    "\n",
    "10. Evaluación módulo 2.\n",
    "\n",
    "<p style=\"text-align:right;\"> Imagen recuperada de: https://upload.wikimedia.org/wikipedia/commons/d/da/Kalman.png.</p>"
   ]
  },
  {
   "cell_type": "markdown",
   "metadata": {},
   "source": [
    "#### Módulo 3. Aprendizaje.\n",
    "\n",
    "<img style=\"float: right; margin: 0px 0px 15px 15px;\" src=\"https://storage.needpix.com/rsynced_images/pixel-cells-3947912_1280.png\" width=\"400px\" height=\"250px\" />\n",
    "\n",
    "A partir de los aprendizajes en el primer y segundo módulo, en este módulo aprenderemos cómo un modelo gráfico probabilístico puede aprenderse a partir de un conjunto de datos. Dsicutiremos los problemas principales que aparecen en la estimación de parámetros tanto en redes Bayesianas como en redes de Markov, así como en el aprendizaje estructural para redes dirigidas.\n",
    "\n",
    "11. Estimación de parámetros en redes Bayesianas.\n",
    "  - Estimación de máxima verosimilitud.\n",
    "  - Estimación Bayesiana de parámetros:\n",
    "  - Tarea 6.\n",
    "  \n",
    "12. Estimación de parámetros en redes de Markov.\n",
    "  - Quiz clase 12.\n",
    "  - Estimación de máxima verosimilitud.\n",
    "  - Estimación MAP en campos aleatorios.\n",
    "  \n",
    "13. Aprendizaje estructural.\n",
    "  - Quiz clase 13.\n",
    "  - Funciones de costo para aprendizaje estructural:\n",
    "      - Verosimilitud.\n",
    "      - Bayesiana.\n",
    "  - Optimizando sobre estructuras:\n",
    "      - Aprendizaje de estructuras de árbol.\n",
    "      - Aprendizaje de estructuras genéricas: heurísicas.\n",
    "\n",
    "14. Evaluación módulo 3.\n",
    "\n",
    "<p style=\"text-align:right;\"> Imagen recuperada de: https://storage.needpix.com/rsynced_images/pixel-cells-3947912_1280.png.</p>"
   ]
  },
  {
   "cell_type": "markdown",
   "metadata": {},
   "source": [
    "### `Pre-requisitos`\n",
    "\n",
    "- Sintaxis básica de python y trabajo con librerías (curso: prope de programación).\n",
    "- Teoría básica de probabilidad (curso: análisis estadístico).\n",
    "- Planteamiento y solución de problemas de optimización (curso: optimización)."
   ]
  },
  {
   "cell_type": "markdown",
   "metadata": {},
   "source": [
    "### `Evaluación`\n",
    "\n",
    "- **Tareas 30%**\n",
    "- **Quices 18%**\n",
    "- **Evaluaciones 52%**"
   ]
  },
  {
   "cell_type": "markdown",
   "metadata": {},
   "source": [
    "### `Bibliografía `\n",
    "\n",
    "- Daphne Koller and Nir Friedman (2009).  Probabilistic Graphical Models Principles and Techniques . MIT Press. \n",
    "- Ankur Ankan, Abinash Panda. (2015). Mastering Probabilistic Graphical Models Using Python. Packt Publishing."
   ]
  },
  {
   "cell_type": "markdown",
   "metadata": {},
   "source": [
    "<script>\n",
    "  $(document).ready(function(){\n",
    "    $('div.prompt').hide();\n",
    "    $('div.back-to-top').hide();\n",
    "    $('nav#menubar').hide();\n",
    "    $('.breadcrumb').hide();\n",
    "    $('.hidden-print').hide();\n",
    "  });\n",
    "</script>\n",
    "\n",
    "<footer id=\"attribution\" style=\"float:right; color:#808080; background:#fff;\">\n",
    "Created with Jupyter by Esteban Jiménez Rodríguez.\n",
    "</footer>"
   ]
  }
 ],
 "metadata": {
  "kernelspec": {
   "display_name": "Python 3",
   "language": "python",
   "name": "python3"
  },
  "language_info": {
   "codemirror_mode": {
    "name": "ipython",
    "version": 3
   },
   "file_extension": ".py",
   "mimetype": "text/x-python",
   "name": "python",
   "nbconvert_exporter": "python",
   "pygments_lexer": "ipython3",
   "version": "3.7.6"
  }
 },
 "nbformat": 4,
 "nbformat_minor": 4
}
