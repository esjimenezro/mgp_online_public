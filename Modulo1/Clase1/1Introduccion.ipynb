{
 "cells": [
  {
   "cell_type": "markdown",
   "metadata": {},
   "source": [
    "# ¿Porqué usar modelos gráficos probabilísticos?\n",
    "\n",
    "<img style=\"float: right; margin: 0px 0px 15px 15px;\" src=\"https://p0.pikrepo.com/preview/226/186/artificial-intelligence-concept.jpg\" width=\"350px\" height=\"180px\" />\n",
    "\n",
    "> **Objetivos:**\n",
    "> - Instalar las herramientas que estaremos usando durante el curso.\n",
    "> - Aprender a usar de manera básica las herramientas.\n",
    "> - Comprender la relevancia de los modelos gráficos probabilísticos y sus posibles aplicaciones a través de un ejemplo.\n",
    "\n",
    "> **Referencias:**\n",
    "> \n",
    "> - https://www.anaconda.com/products/individual\n",
    "> - https://pgmpy.org/\n",
    "> - https://github.com/pgmpy\n",
    "> - https://github.com/pgmpy/pgmpy_notebook/\n",
    "> - Probabilistic Graphical Models: Principles and Techniques, By Daphne Koller and Nir Friedman.\n",
    "\n",
    "\n",
    "<p style=\"text-align:right;\"> Imagen recuperada de: https://p0.pikrepo.com/preview/226/186/artificial-intelligence-concept.jpg.</p>\n",
    "\n",
    "___"
   ]
  },
  {
   "cell_type": "markdown",
   "metadata": {},
   "source": [
    "## 1. Herramientas computacionales"
   ]
  },
  {
   "cell_type": "markdown",
   "metadata": {},
   "source": [
    "### 1.1. Instalación de herramientas básicas"
   ]
  },
  {
   "cell_type": "markdown",
   "metadata": {},
   "source": [
    "### [python](https://www.python.org)\n",
    "<img style=\"float: left; margin: 0px 0px 15px 15px;\" src=\"https://www.python.org/static/community_logos/python-logo.png\" width=\"300px\" height=\"300px\" alt=\"atom\" />"
   ]
  },
  {
   "cell_type": "markdown",
   "metadata": {},
   "source": [
    "### [anaconda](https://www.anaconda.com/products/individual)\n",
    "<img style=\"float: left; margin: 0px 0px 15px 15px;\" src=\"https://upload.wikimedia.org/wikipedia/en/c/cd/Anaconda_Logo.png\" width=\"300px\" height=\"300px\" />"
   ]
  },
  {
   "cell_type": "markdown",
   "metadata": {},
   "source": [
    "### [jupyter](http://jupyter.org)\n",
    "<img style=\"float: left; margin: 0px 0px 15px 15px;\" src=\"http://jupyter.org/assets/main-logo.svg\" width=\"200px\" height=\"200px\" />"
   ]
  },
  {
   "cell_type": "markdown",
   "metadata": {},
   "source": [
    "### [pgmpy](https://pgmpy.org/)\n",
    "<img style=\"float: left; margin: 0px 0px 15px 15px;\" src=\"https://pgmpy.org/_static/logo.png\" width=\"300px\" height=\"300px\" />"
   ]
  },
  {
   "cell_type": "markdown",
   "metadata": {},
   "source": [
    "### 1.2. Notebooks de jupyter\n",
    "\n",
    "Además de poder insertar celdas para programar, tiene otras funcionalidades. Como ya se dieron cuenta toda esta presentación esta hecha con el notebook. Además de eso, también se puede incluir directamente dentro de este documento, texto en [Markdown](https://confluence.atlassian.com/bitbucketserver/markdown-syntax-guide-776639995.html). "
   ]
  },
  {
   "cell_type": "markdown",
   "metadata": {},
   "source": [
    "Adicionalmente, uno de los atractivos más relevantes (personalmente) es que puedes escribir ecuaciones estilo $\\LaTeX$, esto es gracias al proyecto [MathJax](https://www.mathjax.org) el cual se especializa en que podamos publicar matemáticas en línea. A continuación, se muestra una ejemplo. "
   ]
  },
  {
   "cell_type": "markdown",
   "metadata": {},
   "source": [
    "> **Definición.** Decimos que una variable aleatoria $X$ tiene una distribución normal (o Gaussiana) con media $\\mu$ y varianza $\\sigma^2$, denotada por $X \\sim \\mathcal{N}(\\mu;\\sigma^2)$, si tiene la función de densidad de probabilidad\n",
    "\n",
    "> $$p(x) = \\frac{1}{\\sqrt{2\\pi} \\sigma} \\exp\\left\\{-\\frac{(x-\\mu)^2}{2 \\sigma^2}\\right\\}.$$"
   ]
  },
  {
   "cell_type": "markdown",
   "metadata": {},
   "source": [
    "### 1.3. Actualización del repositorio del curso"
   ]
  },
  {
   "cell_type": "markdown",
   "metadata": {},
   "source": [
    "### [git](https://git-scm.com)\n",
    "<img style=\"float: right; margin: 15px 15px 15px 15px;\" src=\"http://conociendogithub.readthedocs.io/en/latest/_images/Git.png\" title=\"git\" width=\"180\" height=\"50\">\n",
    "\n",
    "`git` es un software (de código abierto) de control de versiones diseñado por *Linus Torvalds*, pensando en la eficiencia y la confiabilidad del mantenimiento de versiones de aplicaciones cuando éstas tienen un gran número de archivos de código fuente.</p>\n",
    "\n",
    "Se llama control de versiones a la gestión de los diversos cambios que se realizan sobre los elementos de algún producto o una configuración del mismo. Una versión, revisión o edición de un producto, es el estado en el que se encuentra el mismo en un momento dado de su desarrollo o modificación.</p>\n",
    "\n",
    "`git` es independiente de `GitHub`, y es el programa que se usa para gestionar todos los cambios en las versiones de un proyecto (individual o colaborativo, local o de acceso remoto)."
   ]
  },
  {
   "cell_type": "markdown",
   "metadata": {},
   "source": [
    "### [GitHub](https://github.com)\n",
    "\n",
    "<img style=\"float: right; margin: 15px 15px 15px 15px;\" src=\"https://c1.staticflickr.com/3/2238/13158675193_2892abac95_z.jpg\" title=\"git\" width=\"180\" height=\"50\">\n",
    "\n",
    "`GitHub` es una compañía que ofrece servicios de *hosting* para repositorios de `git`, y es la forma más popular para trabajar con el control de versiones que brinda `git` de forma colaborativa. En pocas palabras, permite que tanto tú como otras personas del mundo trabajen juntos en proyectos, haciendo control de versiones con `git`.\n",
    "\n",
    "De forma que usando `git` y `GitHub` en conjunto se puede trabajar tanto:\n",
    "- De forma local: repositorios en tu equipo, sin necesidad de conexión a internet (usando únicamente `git`).\n",
    "- De forma remota: repositorios remotos (compartidos) que no están necesariamente en tu máquina.\n",
    "\n",
    "**Importante**: se recomienda crear una cuenta *seria*, no solo porque la vamos a utilizar continuamente en el curso, sino porque probablemente sea parte importante de su carrera profesional."
   ]
  },
  {
   "cell_type": "markdown",
   "metadata": {},
   "source": [
    "### [GitKraken](https://www.gitkraken.com/)\n",
    "\n",
    "<img style=\"float: right; margin: 15px 15px 15px 15px;\" src=\"https://www.gitkraken.com/downloads/brand-assets/gitkraken-keif-teal-sq.png\" title=\"git\" width=\"180\" height=\"50\">\n",
    "\n",
    "**Usamos `git` desde una interfaz gráfica :)**\n",
    "\n",
    "Todos los procedimientos con `git` se pueden correr desde la *consola*. Sin embargo, este modo de utilizar `git` puede ser tedioso para algunos (esto no solo ocurre con `git`).\n",
    "\n",
    "Por ello, `git` viene con algunas herramientas *GUI* (Graphical User Interface) por defecto con su instalación. Aún así, existen varias GUI desarrolladas por otras compañías para brindar una experiencia más cómoda según el sistema operativo.\n",
    "\n",
    "`GitKraken` es entonces una de estas GUI, **gratuita para el uso no comercial**, que tiene versiones para los sistemas operativos *Windows*, *Mac* y *Linux*. La estaremos usando en el curso por su versatilidad."
   ]
  },
  {
   "cell_type": "markdown",
   "metadata": {},
   "source": [
    "### Seguir un proyecto de otra persona\n",
    "Como ejemplo, van a seguir el proyecto de la asignatura **porinvv2020**.\n",
    "\n",
    "Los siguientes pasos nos enseñarán como mantener nuestro repositorio local actualizado con el repositorio de la asignatura.\n",
    "1. Entrar al repositorio https://github.com/esjimenezro/porinvv2020.\n",
    "2. En la esquina superior derecha, dar click en *fork* y esperar un momento. Esta acción copia en su cuenta de `GitHub` un repositorio idéntico al de la materia (con el mismo nombre).\n",
    "3. Desde `GitKraken`, clonar el repositorio (el que ya está en su cuenta).\n",
    "4. En la pestaña *REMOTE* dar click en el signo `+`.\n",
    "    - Picar en `GitHub`.\n",
    "    - Desplegar la pestaña y elegir esjimenezro/porinvo20191.\n",
    "    - Picar en *Add remote*.\n",
    "5. <font color=red>Añadiré un nuevo archvo en el repositorio de la materia y ustedes verán qué pasa en `GitKraken`</font>.\n",
    "6. Arrastrar el repositorio remoto ajeno a la rama *master* y dar click en la opción *Merge esjimenezro/master into master*. Ya el repositorio local está actualizado.\n",
    "7. Para actualizar el repositorio remoto propio hacer un *push*."
   ]
  },
  {
   "cell_type": "markdown",
   "metadata": {},
   "source": [
    "___\n",
    "## 2. Motivación"
   ]
  },
  {
   "cell_type": "markdown",
   "metadata": {},
   "source": [
    "### 2.1. Nada mejor que un ejemplo...\n",
    "\n",
    "> Ejemplo tomado de [aquí](https://github.com/pgmpy/pgmpy_notebook/blob/master/notebooks/1.%20Introduction%20to%20Probabilistic%20Graphical%20Models.ipynb)."
   ]
  },
  {
   "cell_type": "markdown",
   "metadata": {},
   "source": [
    "La mayoría de las tareas requieren de una **persona o un sistema automático que razone** (que llegue a conclusiones con base en la información disponible). \n",
    "\n",
    "Como respuesta a esta situación, el área de aprendizaje de máquinas ha cobrado una gran fuerza en las últimas décadas. Los algoritmos de aprendizaje de máquinas operan mediante la construcción de un modelo usando conjuntos de datos ejemplares, y luego se usa el modelo para hacer predicciones y tomar decisiones."
   ]
  },
  {
   "cell_type": "markdown",
   "metadata": {},
   "source": [
    "Para ejemplificar lo anterior, consideremos el escenario en el que una empresa de flores, nos pide predecir el tipo de flor dadas las medidas del tallo (longitud y ancho). Lo anterior, debido a que los proveedores de la empresa entregan las flores revueltas y es importante separarlas."
   ]
  },
  {
   "cell_type": "markdown",
   "metadata": {},
   "source": [
    "Usamos el conjunto de datos `iris` disponible a través de la librería de sklearn."
   ]
  },
  {
   "cell_type": "code",
   "execution_count": null,
   "metadata": {},
   "outputs": [],
   "source": [
    "# Importamos librerías (sklearn.datasets.load_iris, pandas y numpy)\n"
   ]
  },
  {
   "cell_type": "code",
   "execution_count": null,
   "metadata": {},
   "outputs": [],
   "source": [
    "# Cargamos datos (tomamos las partes enteras de las longitudes, por simplicidad)\n"
   ]
  },
  {
   "cell_type": "markdown",
   "metadata": {},
   "source": [
    "Exploremos un poco los datos"
   ]
  },
  {
   "cell_type": "code",
   "execution_count": null,
   "metadata": {},
   "outputs": [],
   "source": [
    "# Imprimimos algunos registros del dataframe\n"
   ]
  },
  {
   "cell_type": "code",
   "execution_count": null,
   "metadata": {},
   "outputs": [],
   "source": [
    "# Conteo de valores para cada variable\n"
   ]
  },
  {
   "cell_type": "code",
   "execution_count": null,
   "metadata": {},
   "outputs": [],
   "source": []
  },
  {
   "cell_type": "markdown",
   "metadata": {},
   "source": [
    "El tipo de flor correspondiente a cada valor de la variable objetivo está relacionado en la siguiente tabla:\n",
    "\n",
    "| Tipo de flor | Número |\n",
    "| ------------ | ------ |\n",
    "| Setosa       | 0      |\n",
    "| Versicolor   | 1      |\n",
    "| Virginica    | 2      |"
   ]
  },
  {
   "cell_type": "code",
   "execution_count": null,
   "metadata": {},
   "outputs": [],
   "source": [
    "# Importar matplotlib.pyplot\n"
   ]
  },
  {
   "cell_type": "code",
   "execution_count": null,
   "metadata": {},
   "outputs": [],
   "source": []
  },
  {
   "cell_type": "code",
   "execution_count": null,
   "metadata": {},
   "outputs": [],
   "source": [
    "# Gráfico de dispersión de puntos (largo vs. ancho), coloreando de acuerdo al tipo de flor.\n",
    "# Se recomienda añadir un poco de ruido a los datos x, y para una mejor visualización.\n"
   ]
  },
  {
   "cell_type": "markdown",
   "metadata": {},
   "source": [
    "Ya que hemos comprendido un poco los datos, podemos comenzar con nuestra tarea de predicción.\n",
    "\n",
    "Como ustedes sabrán para este momento, podríamos usar varios algoritmos de clasificación convencionales para resolver este problema (regresión logística milticlase, árboles de decisión, entre otros). \n",
    "\n",
    "Básicamente, lo que hacemos con estos algoritmos es encontrar una función la cual mapee directamente los valores de longitud y ancho a la etiqueta de tipo de flor.\n",
    "\n",
    "Por ejemplo, con árboles de decisión, lo que hacemos es encontrar una serie de desigualdades para separar los datos. Apliquemos este algoritmo:"
   ]
  },
  {
   "cell_type": "code",
   "execution_count": null,
   "metadata": {},
   "outputs": [],
   "source": [
    "# Importar sklearn.model_selection.train_test_split, sklearn.tree.DecisionTreeClassifier\n"
   ]
  },
  {
   "cell_type": "code",
   "execution_count": null,
   "metadata": {},
   "outputs": [],
   "source": []
  },
  {
   "cell_type": "code",
   "execution_count": null,
   "metadata": {},
   "outputs": [],
   "source": [
    "# Dividir datos en entrenamiento y prueba\n"
   ]
  },
  {
   "cell_type": "code",
   "execution_count": null,
   "metadata": {},
   "outputs": [],
   "source": [
    "# Entrenar clasificador por árboles de decisión con profundidad máxima 5\n",
    "\n",
    "# Predecir datos de prueba\n"
   ]
  },
  {
   "cell_type": "code",
   "execution_count": null,
   "metadata": {},
   "outputs": [],
   "source": [
    "# Obtener el score de los datos de prueba\n"
   ]
  },
  {
   "cell_type": "markdown",
   "metadata": {},
   "source": [
    "**Comentario:**\n",
    "\n",
    "- El modelo con árboles de decisión tiene un scor del 76.6667%"
   ]
  },
  {
   "cell_type": "markdown",
   "metadata": {},
   "source": [
    "Por otra parte, en lugar de usar un algorítmo genérico, podríamos usar un enfoque probabilístico para construir un modelo de la situación con los datos que tenemos disponibles. \n",
    "\n",
    "Esto es, podemos estimar la distribución de probabilidad sobre las variables de interes (longitud del tallo, ancho del tallo y tipo de flor),\n",
    "\n",
    "$$P(L, W, T)$$\n",
    "\n",
    "con los datos que tenemos. Luego, podemos usar esta distribución para responder preguntas de acierdo a la evidencia que tengamos (una nueva flor con longitud y ancho del tallo).\n",
    "\n",
    "Estimemos entonces la distribución conjunta sobre las variables de interés con los datos que tenemos:"
   ]
  },
  {
   "cell_type": "code",
   "execution_count": null,
   "metadata": {},
   "outputs": [],
   "source": []
  },
  {
   "cell_type": "code",
   "execution_count": null,
   "metadata": {},
   "outputs": [],
   "source": [
    "# Dividir aleatoriamente los datos en entrenamiento y prueba\n"
   ]
  },
  {
   "cell_type": "code",
   "execution_count": null,
   "metadata": {},
   "outputs": [],
   "source": [
    "# Datos de entrenamiento\n"
   ]
  },
  {
   "cell_type": "code",
   "execution_count": null,
   "metadata": {},
   "outputs": [],
   "source": [
    "# Estimación de la distribución conjunta sobre los datos de entrenamiento\n"
   ]
  },
  {
   "cell_type": "code",
   "execution_count": null,
   "metadata": {},
   "outputs": [],
   "source": []
  },
  {
   "cell_type": "markdown",
   "metadata": {},
   "source": [
    "Ya que tenemos la distribución conjunta, podemos diseñar un clasificador de la siguiente manera:\n",
    "\n",
    "1. Para cada par de medidas de longitud $l$ y ancho del tallo $w$ dadas, podemos calcular la distribución condicional:\n",
    "\n",
    "$$P(T|L=l, W=w).$$\n",
    "\n",
    "2. Recordar que lo anterior nos dará tres valores (uno para cada valor de $T$: 0, 1 y 2). De lo anterior podemos elegir como predicción del tipo de flor, el tipo que nos dé una probabilidad más alta, esto es:\n",
    "\n",
    "$$\\arg \\max_{t=0, 1, 2} P(T=t|L=l, W=w).$$\n",
    "\n",
    "3. Formalmente, esto se conoce como clasificador MAP (maximum aposteriori probability). Además, no es necesario calcular la distribución condicional:\n",
    "\n",
    "$$\\arg \\max_{t} P(T=t|L=l, W=w) = \\arg \\max_{t} \\frac{P(T=t, L=l, W=w)}{P(L=l, W=w)} = \\arg \\max_{t} P(T=t, L=l, W=w).$$"
   ]
  },
  {
   "cell_type": "code",
   "execution_count": null,
   "metadata": {},
   "outputs": [],
   "source": [
    "# Seleccionar únicamente los datos de entrada del dataset de prueba\n"
   ]
  },
  {
   "cell_type": "code",
   "execution_count": null,
   "metadata": {},
   "outputs": [],
   "source": []
  },
  {
   "cell_type": "code",
   "execution_count": null,
   "metadata": {},
   "outputs": [],
   "source": [
    "# Predicción MAP\n"
   ]
  },
  {
   "cell_type": "code",
   "execution_count": null,
   "metadata": {},
   "outputs": [],
   "source": [
    "# Evaluación de los resultados\n"
   ]
  },
  {
   "cell_type": "markdown",
   "metadata": {},
   "source": [
    "A través de este ejemplo vimos de, forma muy básica y resumida, como podemos:\n",
    "\n",
    "- Modelar una situación desde el punto de vista probabilístico: estimar una distribución conjunta sobre las variables de interés.\n",
    "\n",
    "- Usar el modelo para responder requerimientos dada cierta evidencia."
   ]
  },
  {
   "cell_type": "markdown",
   "metadata": {},
   "source": [
    "Bajo este enfoque:\n",
    "\n",
    "- Tenemos una manera directa de incluir la incertidumbre directamente en la etapa de modelamiento (teoría de probabilidad). La incertidumbre parece ser un aspecto ineludible de las aplicaciones reales, y puede ser consecuencia de varios factores:\n",
    "   - Observaciones parciales.\n",
    "   - Observaciones ruidosas.\n",
    "   - Ni siquiera hay consenso en si el universo es determinista o no.\n",
    "\n",
    "- El modelo es una entidad por sí misma. Una vez lo construyo, lo puedo usar las veces que quiera, y aplicándole los algoritmos que desee (separación de conocimiento y razonamiento). Incluso, si cambia la situación puedo usar el modelo por sí mismo, o usarlo como parte de otro modelo más grande (transfer learning)."
   ]
  },
  {
   "cell_type": "markdown",
   "metadata": {},
   "source": [
    "### 2.2. Bueno, ¿y dónde queda la parte gráfica?"
   ]
  },
  {
   "cell_type": "markdown",
   "metadata": {},
   "source": [
    "El ejemplo que vimos anteriormente era sencillo:\n",
    "\n",
    "- Sólo teníamos tres variables y de baja cardinalidad."
   ]
  },
  {
   "cell_type": "code",
   "execution_count": null,
   "metadata": {},
   "outputs": [],
   "source": [
    "# Encontrar la cardinalidad de las variables\n"
   ]
  },
  {
   "cell_type": "markdown",
   "metadata": {},
   "source": [
    "Por tanto, el número de parámetros necesarios para especificar completamente la distribución es:"
   ]
  },
  {
   "cell_type": "code",
   "execution_count": null,
   "metadata": {},
   "outputs": [],
   "source": [
    "# Número de parámetros\n"
   ]
  },
  {
   "cell_type": "markdown",
   "metadata": {},
   "source": [
    "Este fenómeno puede no parecer alarmante en este momento. Sin embargo, si intentáramos tratar un fenómeno que involucre $k$ variables binarias, la cantidad de parámetros que se necesitarían para modelar la distribución conjunta es (**exponenciál**):\n",
    "\n",
    "$$2^k - 1$$\n",
    "\n",
    "Teniendo en cuenta que en una aplicación podemos tener fácilmente cientos de variables, el problema se volvería intratable."
   ]
  },
  {
   "cell_type": "markdown",
   "metadata": {},
   "source": [
    "El enfoque de **modelos gráficos probabilísticos** que estaremos estudiando este semestre nos provee de mecanismos de explotar la **estructura de distribuciones complejas** para describirlas de manera **compacta**, de manera que las podamos construir y utilizar de manera efectiva."
   ]
  },
  {
   "cell_type": "markdown",
   "metadata": {},
   "source": [
    "Los modelos gráficos probabilísticos utilizan una **representación gráfica** como base para codificar distribuciones complejas sobre espacios de gran dimensión de manera compacta.\n",
    "\n",
    "Por ejemplo, en el caso de las flores podríamos proponer el siguiente modelo:"
   ]
  },
  {
   "cell_type": "code",
   "execution_count": null,
   "metadata": {},
   "outputs": [],
   "source": [
    "from IPython.display import Image"
   ]
  },
  {
   "cell_type": "code",
   "execution_count": null,
   "metadata": {},
   "outputs": [],
   "source": [
    "Image(filename='iris.png')"
   ]
  },
  {
   "cell_type": "markdown",
   "metadata": {},
   "source": [
    "**¿Qué ganamos?**\n",
    "\n",
    "- No tenemos que especificar la distribución conjunta completa $P(L, W, T)$.\n",
    "\n",
    "- Bajo la suposición del modelo anterior, podemos factorizar $P(L, W, T) = P(T) P(W|T) P(L|T)$.\n",
    "\n",
    "- Por tanto, debemos especificar las distribuciones:\n",
    "  - $P(T)$: $3 - 1 = 2$ parámetros, \n",
    "  - $P(W|T)$: $3 * (3 - 1) = 6$ parámetros y\n",
    "  - $P(L|T)$: $3 * (4 - 1) = 9$ parámetros;\n",
    "  \n",
    "  ¡17 parámetros en total! :)"
   ]
  },
  {
   "cell_type": "markdown",
   "metadata": {},
   "source": [
    "**¿A qué costo?**\n",
    "\n",
    "- El modelo anterior introduce ciertas independencias entre las variables $(L \\perp W | T)$, que habría que analizar si se cumplen o no."
   ]
  },
  {
   "cell_type": "markdown",
   "metadata": {},
   "source": [
    "<script>\n",
    "  $(document).ready(function(){\n",
    "    $('div.prompt').hide();\n",
    "    $('div.back-to-top').hide();\n",
    "    $('nav#menubar').hide();\n",
    "    $('.breadcrumb').hide();\n",
    "    $('.hidden-print').hide();\n",
    "  });\n",
    "</script>\n",
    "\n",
    "<footer id=\"attribution\" style=\"float:right; color:#808080; background:#fff;\">\n",
    "Created with Jupyter by Esteban Jiménez Rodríguez.\n",
    "</footer>"
   ]
  }
 ],
 "metadata": {
  "kernelspec": {
   "display_name": "Python 3",
   "language": "python",
   "name": "python3"
  },
  "language_info": {
   "codemirror_mode": {
    "name": "ipython",
    "version": 3
   },
   "file_extension": ".py",
   "mimetype": "text/x-python",
   "name": "python",
   "nbconvert_exporter": "python",
   "pygments_lexer": "ipython3",
   "version": "3.7.6"
  }
 },
 "nbformat": 4,
 "nbformat_minor": 4
}
