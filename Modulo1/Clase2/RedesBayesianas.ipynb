{
 "cells": [
  {
   "cell_type": "markdown",
   "metadata": {},
   "source": [
    "# Preeliminares y Redes Bayesianas\n",
    "\n",
    "<img style=\"float: right; margin: 0px 0px 15px 15px;\" src=\"https://upload.wikimedia.org/wikipedia/commons/1/18/Bayes%27_Theorem_MMB_01.jpg\" width=\"400px\" height=\"300px\" />\n",
    "\n",
    "> Con el repaso de probabilidad que vimos la clase pasada estamos listos para comenzar nuestro camino de aprendizaje de los modelos gráficos probabilísticos. Esta clase revisaremos un par de conceptos matemáticos preeliminares, y finalmente veremos los fundamentos de uno de los dos modelos probabilísticos que estudiaremos: las **Redes Bayesianas**.\n",
    "\n",
    "> **Objetivos:**\n",
    "> - Entender el concepto de factor y las operaciones que podemos desarrollar con estos elementos.\n",
    "> - Aprender qué es una red Bayesiana y cómo se factorizan distribuciones sobre ellas.\n",
    "> - Entender el flujo de probabilidad que codifica una red Bayesiana y las independencias que implica.\n",
    "> - Estudiar el modelo Naïve Bayes, y sus implicaciones de independencia.\n",
    "\n",
    "> **Referencias:**\n",
    "> \n",
    "> - Probabilistic Graphical Models: Principles and Techniques, By Daphne Koller and Nir Friedman. Cap. 3.\n",
    "> - Probabilistic Graphical Models Specialization, offered through Coursera. Prof. Daphne Koller.\n",
    "> - Mastering Probabilistic Graphical Models Using Python, By Ankur Ankan and Abinash Panda. Cap. 1.\n",
    "\n",
    "\n",
    "<p style=\"text-align:right;\"> Imagen recuperada de: https://upload.wikimedia.org/wikipedia/commons/1/18/Bayes%27_Theorem_MMB_01.jpg.</p>\n",
    "\n",
    "___"
   ]
  },
  {
   "cell_type": "markdown",
   "metadata": {},
   "source": [
    "# 0. Recorderis\n",
    "\n",
    "En la clase pasada vimos una extensa motivación de qué son y porqué usar modelos gráficos probabilísticos. Segregando cada palabra de este nombre:"
   ]
  },
  {
   "cell_type": "markdown",
   "metadata": {},
   "source": [
    "- Modelo: construimos un modelo a partir de la experiencia de un experto y de los datos para modelar la situación que estamos enfrentando. El modelo es un ente por sí solo, y contiene todo nuestro conocimiento acerca del fenómeno sobre el que estamos razonando: las variables que involucra y cómo interactúan entre ellas. Entonces separamos el modelo de los algoritmos que usamos para razonar sobre él."
   ]
  },
  {
   "cell_type": "markdown",
   "metadata": {},
   "source": [
    "- Probabilísitico: hablamos que casi todas las aplicaciones reales tenían algún tipo de incertidumbre involucrada (observación parcial, ruido de medición, incluso dudamos de que el mundo sea determinista). Por tanto, la probabildiad es un enfoque que nos permite incorporar esta incertidumbre dentro del modelo y nos da herramientas para trabajar con la incertidumbre."
   ]
  },
  {
   "cell_type": "markdown",
   "metadata": {},
   "source": [
    "- Gráfico: finalmente, discutimos que codificar una distribución conjunta es una tarea compleja. En el caso más sencillo en el que tenemos $k$ VA binarias, necesitaríamos $2^k$ parámetros para especificar completamente la distribución conjunta. Por tanto, explotamos la teoría de grafos para codificar y manipular este tipo de distribuciones de manera efectiva."
   ]
  },
  {
   "cell_type": "markdown",
   "metadata": {},
   "source": [
    "Concluimos entonces que el uso de las representaciones gráficas está justificado por:\n",
    "\n",
    "- Son una estructura de datos intuitiva y compacta para capturar las distribuciones de alta dimensionalidad.\n",
    "\n",
    "- Nos permiten razonar de forma eficiente usando algoritmos que explotan la estructura gráfica.\n",
    "\n",
    "- En ciertas ocasiones, tenemos una parametrización \"*sparse*\", lo que nos permite representar distribuciones grandes con un número pequeño de parámetros.\n",
    "\n",
    "- Podemos adquirir conocimiento de expertos.\n",
    "\n",
    "- Nos permite aprender los parámetros de manera robusta a partir de datos."
   ]
  },
  {
   "cell_type": "markdown",
   "metadata": {},
   "source": [
    "# 1. Preeliminares"
   ]
  },
  {
   "cell_type": "markdown",
   "metadata": {},
   "source": [
    "## 1.1. Ejemplo"
   ]
  },
  {
   "cell_type": "markdown",
   "metadata": {},
   "source": [
    "Consideramos el caso de un estudiante dentro de un curso. Queremos razonar acerca de \n",
    "   - la $I$(nteligencia) del estudiante,\n",
    "   - la $D$(ificultad) del curso,\n",
    "   - la $C$(alificación) del estudiante dentro del curso,\n",
    "   - el $P$(untaje) en las pruebas estatales, y\n",
    "   - una carta de $R$(ecomendación) laboral que emite el profesor del curso acerca del estudiante."
   ]
  },
  {
   "cell_type": "markdown",
   "metadata": {},
   "source": [
    "Consideramos una discretización de las anteriores variables como sigue:\n",
    "- $\\mathrm{Val}(I)=\\{i^0, i^1\\}$, donde $i^0$ representa baja inteligencia e $i^1$ representa alta inteligencia;\n",
    "- $\\mathrm{Val}(D)=\\{d^0, d^1\\}$, donde $d^0$ representa fácil y $d^1$ representa difícil;\n",
    "- $\\mathrm{Val}(C)=\\{c^0, c^1, c^2\\}$, donde $c^0$ representa calificación baja ($< 6$), $c^1$ representa calificación media ($\\geq 6$, $< 9$) y $c^2$ representa calificación alta ($\\geq 9$);\n",
    "- $\\mathrm{Val}(P)=\\{p^0, p^1\\}$, donde $p^0$ representa mal puntaje y $d^1$ representa alto puntaje;\n",
    "- $\\mathrm{Val}(R)=\\{r^0, r^1\\}$, donde $r^0$ representa una carta de recomendación débil y $r^1$ representa una carta de recomendación fuerte."
   ]
  },
  {
   "cell_type": "markdown",
   "metadata": {},
   "source": [
    "**Pregunta.** De no usar modelos gráficos probabilísticos, ¿cuántos parámetros necesitamos para especificar por completo la distribución sobre las cinco variables mencionadas?\n",
    "\n",
    "*Respuesta:* Necesitaríamos $2 \\times 2 \\times 3 \\times 2 \\times 2 = 48$ parámetros."
   ]
  },
  {
   "cell_type": "markdown",
   "metadata": {},
   "source": [
    "Por otra parte, pensando en la **causalidad** de la situación, podríamos plantear la siguiente Red Bayesiana para modelar el ejemplo anterior:"
   ]
  },
  {
   "cell_type": "code",
   "execution_count": null,
   "metadata": {},
   "outputs": [],
   "source": [
    "from IPython.display import Image"
   ]
  },
  {
   "cell_type": "code",
   "execution_count": null,
   "metadata": {},
   "outputs": [],
   "source": [
    "Image(filename='figures/Student.png')"
   ]
  },
  {
   "cell_type": "markdown",
   "metadata": {},
   "source": [
    "Al final de esta clase, entenderemos cómo codificar la distribución de las variables sobre esta red, y apartir de ello, porqué este modelo necesita muchos menos parámetros que el modelo genérico (distribución conjunta)."
   ]
  },
  {
   "cell_type": "markdown",
   "metadata": {},
   "source": [
    "## 1.2. Distribuciones de probabilidad y sus operaciones"
   ]
  },
  {
   "cell_type": "markdown",
   "metadata": {},
   "source": [
    "Consideremos el ejemplo del estudiante, esta vez reducido a las variables $I$, $D$ y $C$.\n",
    "\n",
    "Una distribución conjunta, $P(I,D,C)$, sobre estas tres variables es:\n",
    "\n",
    "|  $I$  |  $D$  |  $C$  |  $P$  |\n",
    "| ----- | ----- | ----- | ----- |\n",
    "| $i^0$ | $d^0$ | $c^0$ | 0.126 |\n",
    "| $i^0$ | $d^0$ | $c^1$ | 0.168 |\n",
    "| $i^0$ | $d^0$ | $c^2$ | 0.126 |\n",
    "| $i^0$ | $d^1$ | $c^0$ | 0.126 |\n",
    "| $i^0$ | $d^1$ | $c^1$ | 0.045 |\n",
    "| $i^0$ | $d^1$ | $c^2$ | 0.009 |\n",
    "| $i^1$ | $d^0$ | $c^0$ | 0.0056|\n",
    "| $i^1$ | $d^0$ | $c^1$ | 0.0224|\n",
    "| $i^1$ | $d^0$ | $c^2$ | 0.252 |\n",
    "| $i^1$ | $d^1$ | $c^0$ | 0.024 |\n",
    "| $i^1$ | $d^1$ | $c^1$ | 0.036 |\n",
    "| $i^1$ | $d^1$ | $c^2$ | 0.06  |\n",
    "\n",
    "**Pregunta.** ¿Cuántos parámetros en total?\n",
    "\n",
    "*Respuesta:* $2 \\times 2 \\times 3 = 12$ parámetros."
   ]
  },
  {
   "cell_type": "code",
   "execution_count": null,
   "metadata": {},
   "outputs": [],
   "source": [
    "# Importamos pgmpy.factors.discrete.JointProbabilityDistribution\n"
   ]
  },
  {
   "cell_type": "code",
   "execution_count": null,
   "metadata": {},
   "outputs": [],
   "source": [
    "# help JointProbabilityDistribution\n"
   ]
  },
  {
   "cell_type": "code",
   "execution_count": null,
   "metadata": {},
   "outputs": [],
   "source": [
    "# Crear la distribución conjunta\n"
   ]
  },
  {
   "cell_type": "code",
   "execution_count": null,
   "metadata": {},
   "outputs": [],
   "source": []
  },
  {
   "cell_type": "code",
   "execution_count": null,
   "metadata": {},
   "outputs": [],
   "source": [
    "# Verificar que la distribución es válida\n"
   ]
  },
  {
   "cell_type": "markdown",
   "metadata": {},
   "source": [
    "Entonces, tenemos que para cualquier distribución sobre un conjunto de variables $\\bar{X}$:\n",
    "\n",
    "$$\\sum_{\\bar{x}\\in\\mathrm{Val}(\\bar{X})} P(\\bar{X}=\\bar{x}) = 1.$$\n",
    "\n",
    "> **Independencia de parámetros:** son parámetros independientes aquellos cuyo valor no está completamente determinado por el valor de otros parámetros.\n",
    "\n",
    "En este caso, la distribución se determina con 12 parámetros. Sin embargo, la suma de todos ellos debe ser uno (1). Por tanto, *sólo hay 11 parámetros independientes*."
   ]
  },
  {
   "cell_type": "markdown",
   "metadata": {},
   "source": [
    "### ¿Qué operaciones podemos llevar a cabo sobre una distribucción?"
   ]
  },
  {
   "cell_type": "markdown",
   "metadata": {},
   "source": [
    "**1. Reducción**\n",
    "\n",
    "Supongamos que observamos que la calificación final del estudiante es alta, esto es, $C=c^2$. La operación de *reducción* consiste en eliminar todas las filas que no son consistentes con la observación:"
   ]
  },
  {
   "cell_type": "code",
   "execution_count": null,
   "metadata": {
    "scrolled": true
   },
   "outputs": [],
   "source": [
    "# help método reduce\n"
   ]
  },
  {
   "cell_type": "code",
   "execution_count": null,
   "metadata": {},
   "outputs": [],
   "source": [
    "# Operación de reducción C=c2\n"
   ]
  },
  {
   "cell_type": "code",
   "execution_count": null,
   "metadata": {},
   "outputs": [],
   "source": []
  },
  {
   "cell_type": "code",
   "execution_count": null,
   "metadata": {},
   "outputs": [],
   "source": []
  },
  {
   "cell_type": "markdown",
   "metadata": {},
   "source": [
    "Matemáticamente, esta operación equivale a considerar la distribución evaluada $P(I, D, C=c^2) = P(I, D, c^2)$.\n",
    "\n",
    "**Pregunta**. ¿Es este resultado una distribución de probabilidad sobre las variables $I,D$?\n",
    "\n",
    "*Respuesta:* No."
   ]
  },
  {
   "cell_type": "markdown",
   "metadata": {},
   "source": [
    "**2. Condición**\n",
    "\n",
    "A partir de la operación de reducción, si queremos obtener una distribución legítima sobre las variables que no reducimos, debemos dividir sobre la suma:"
   ]
  },
  {
   "cell_type": "code",
   "execution_count": null,
   "metadata": {},
   "outputs": [],
   "source": [
    "# help método conditional_distribution\n"
   ]
  },
  {
   "cell_type": "code",
   "execution_count": null,
   "metadata": {},
   "outputs": [],
   "source": [
    "# Operación de condición sobre C=c2\n"
   ]
  },
  {
   "cell_type": "code",
   "execution_count": null,
   "metadata": {},
   "outputs": [],
   "source": []
  },
  {
   "cell_type": "code",
   "execution_count": null,
   "metadata": {},
   "outputs": [],
   "source": []
  },
  {
   "cell_type": "code",
   "execution_count": null,
   "metadata": {},
   "outputs": [],
   "source": []
  },
  {
   "cell_type": "markdown",
   "metadata": {},
   "source": [
    "Matemáticamente, esta operación equivale a considerar la distribución condicionada $P(I, D| C=c^2) = P(I, D| c^2)$.\n",
    "\n",
    "**Pregunta**. ¿Es este resultado una distribución de probabilidad sobre las variables $I,D$?\n",
    "\n",
    "*Respuesta:* Si."
   ]
  },
  {
   "cell_type": "markdown",
   "metadata": {},
   "source": [
    "**3. Marginalización**\n",
    "\n",
    "Cuando tenemos una distribución de probabilidad sobre un conjunto de variables, y producimos una sobre un subconjunto de las variables originales. Por ejemplo, queremos la distribución marginal sobre $I, D$:"
   ]
  },
  {
   "cell_type": "code",
   "execution_count": null,
   "metadata": {},
   "outputs": [],
   "source": [
    "# Imprimir distribución inicial\n"
   ]
  },
  {
   "cell_type": "code",
   "execution_count": null,
   "metadata": {},
   "outputs": [],
   "source": [
    "# help método marginalize\n"
   ]
  },
  {
   "cell_type": "code",
   "execution_count": null,
   "metadata": {},
   "outputs": [],
   "source": [
    "# Marginalizar C\n"
   ]
  },
  {
   "cell_type": "code",
   "execution_count": null,
   "metadata": {},
   "outputs": [],
   "source": []
  },
  {
   "cell_type": "markdown",
   "metadata": {},
   "source": [
    "Y si queremos la marginal sobre $I$ nada más:"
   ]
  },
  {
   "cell_type": "code",
   "execution_count": null,
   "metadata": {},
   "outputs": [],
   "source": [
    "# Marginalizar C y D\n"
   ]
  },
  {
   "cell_type": "code",
   "execution_count": null,
   "metadata": {},
   "outputs": [],
   "source": []
  },
  {
   "cell_type": "markdown",
   "metadata": {},
   "source": [
    "Matemáticamente, las anteriores operaciones equivalen a:\n",
    "\n",
    "$$P(I, D) = \\sum_{c\\in\\mathrm{Val}(C)} P(I, D, C=c), \\text{ y }$$\n",
    "\n",
    "$$P(I) = \\sum_{(c,d)\\in\\mathrm{Val}(C,D)} P(I, D=d, C=c).$$\n",
    "\n",
    "En abuso de la notación, para no hacer engorrosa la escritura, las anteriores sumas se expresan comúnmente como:\n",
    "\n",
    "$$P(I, D) = \\sum_{C} P(I, D, C), \\text{ y }$$\n",
    "\n",
    "$$P(I) = \\sum_{C,D} P(I, D, C).$$"
   ]
  },
  {
   "cell_type": "markdown",
   "metadata": {},
   "source": [
    "## 1.3. Factores"
   ]
  },
  {
   "cell_type": "markdown",
   "metadata": {},
   "source": [
    "La manera en que formalizamos esto matemáticamente es através de la noción de factores:\n",
    "\n",
    "> *Definición.* Un **factor** $\\phi(X_1, \\dots, X_k)$ es una función que toma un conjunto de VA $X_1, \\dots, X_k$ y devuelve un valor real no negativo:\n",
    "> \n",
    "> $$\\phi: \\mathrm{Val}(X_1, \\dots, X_k) \\to \\mathbb{R}_{\\geq 0}.$$\n",
    ">\n",
    "> El conjunto de variables $\\{X_1, \\dots, X_k\\}$ se le llama el **alcance** del factor $\\phi$, y se denota como $\\mathrm{alcance}[\\phi]=\\{X_1, \\dots, X_k\\}.$"
   ]
  },
  {
   "cell_type": "markdown",
   "metadata": {},
   "source": [
    "Los factores son el bloque constructor fundamental para definir distribuciones en espacios con alta dimensión. Además, aplican tanto en redes Bayesianas como en redes de Markov."
   ]
  },
  {
   "cell_type": "markdown",
   "metadata": {},
   "source": [
    "**Ejemplos:**\n",
    "\n",
    "- Una distribución conjunta: $\\phi_1(I, D, C) = P(I, D, C)$; $\\mathrm{alcance}[\\phi_1]=\\{I, D, C\\}$.\n",
    "\n",
    "- Una medida sin normalizar: $\\phi_2(I, D) = P(I, D, c^2)$; $\\mathrm{alcance}[\\phi_2]=\\{I, D\\}$.\n",
    "\n",
    "- Una distribución condicional: $\\phi_3(I, D, C) = P(I, D | C)$; $\\mathrm{alcance}[\\phi_3]=\\{I, D, C\\}$. Para cada valor de C tenemos una distribución sobre $I,D$.\n",
    "\n",
    "**Nota:** los factores no son necesariamente probabilidades."
   ]
  },
  {
   "cell_type": "code",
   "execution_count": null,
   "metadata": {},
   "outputs": [],
   "source": [
    "# Hallar distribución condicional\n"
   ]
  },
  {
   "cell_type": "code",
   "execution_count": null,
   "metadata": {},
   "outputs": [],
   "source": []
  },
  {
   "cell_type": "code",
   "execution_count": null,
   "metadata": {},
   "outputs": [],
   "source": []
  },
  {
   "cell_type": "markdown",
   "metadata": {},
   "source": [
    "### Operaciones entre factores"
   ]
  },
  {
   "cell_type": "markdown",
   "metadata": {},
   "source": [
    "**1. Producto de factores**\n",
    "\n",
    "$$\\phi_1(A, B)$$\n",
    "\n",
    "|   A   |   B   | $\\phi_1$ |\n",
    "| ----- | ----- | -------- |\n",
    "| $a^0$ | $b^0$ | 5        |\n",
    "| $a^0$ | $b^1$ | 8        |\n",
    "| $a^1$ | $b^0$ | 1        |\n",
    "| $a^1$ | $b^1$ | 0        |\n",
    "| $a^2$ | $b^0$ | 3        |\n",
    "| $a^2$ | $b^1$ | 9        |\n",
    "\n",
    "$$\\phi_2(B, C)$$\n",
    "\n",
    "|   B   |   C   | $\\phi_1$ |\n",
    "| ----- | ----- | -------- |\n",
    "| $b^0$ | $c^0$ | 5        |\n",
    "| $b^0$ | $c^1$ | 7        |\n",
    "| $b^1$ | $c^0$ | 1        |\n",
    "| $b^1$ | $c^1$ | 2        |\n",
    "\n",
    "$$\\phi_3(A, B, C) = \\phi_1(A, B) \\times \\phi_2(B, C)$$\n",
    "\n",
    "|   A   |   B   |   C   | $\\phi_3$ |\n",
    "| ----- | ----- | ----- | ---------------- |\n",
    "| $a^0$ | $b^0$ | $c^0$ | $5\\times 5 = 25$ |\n",
    "| $a^0$ | $b^0$ | $c^1$ | $5\\times 7 = 35$ |\n",
    "| $a^0$ | $b^1$ | $c^0$ | $8\\times 1 = 8$  |\n",
    "| $a^0$ | $b^1$ | $c^1$ | $8\\times 2 = 16$ |\n",
    "| $a^1$ | $b^0$ | $c^0$ | $1\\times 5 = 5$  |\n",
    "| $a^1$ | $b^0$ | $c^1$ | $1\\times 7 = 7$  |\n",
    "| $a^1$ | $b^1$ | $c^0$ | $0\\times 1 = 0$  |\n",
    "| $a^1$ | $b^1$ | $c^1$ | $0\\times 2 = 0$  |\n",
    "| $a^2$ | $b^0$ | $c^0$ | $3\\times 5 = 15$ |\n",
    "| $a^2$ | $b^0$ | $c^1$ | $3\\times 7 = 21$ |\n",
    "| $a^2$ | $b^1$ | $c^0$ | $9\\times 1 = 9$  |\n",
    "| $a^2$ | $b^1$ | $c^1$ | $9\\times 2 = 18$ |"
   ]
  },
  {
   "cell_type": "code",
   "execution_count": null,
   "metadata": {},
   "outputs": [],
   "source": [
    "# Importamos pgmpy.factors.discrete.DiscreteFactor\n"
   ]
  },
  {
   "cell_type": "code",
   "execution_count": null,
   "metadata": {},
   "outputs": [],
   "source": [
    "# help DiscreteFactor\n"
   ]
  },
  {
   "cell_type": "code",
   "execution_count": null,
   "metadata": {},
   "outputs": [],
   "source": [
    "# Factores phi1, phi2\n"
   ]
  },
  {
   "cell_type": "code",
   "execution_count": null,
   "metadata": {},
   "outputs": [],
   "source": []
  },
  {
   "cell_type": "code",
   "execution_count": null,
   "metadata": {},
   "outputs": [],
   "source": [
    "# Producto de factores\n"
   ]
  },
  {
   "cell_type": "code",
   "execution_count": null,
   "metadata": {},
   "outputs": [],
   "source": []
  },
  {
   "cell_type": "markdown",
   "metadata": {},
   "source": [
    "**2. Marginalización**"
   ]
  },
  {
   "cell_type": "markdown",
   "metadata": {},
   "source": [
    "**3. Reducción**"
   ]
  },
  {
   "cell_type": "markdown",
   "metadata": {},
   "source": [
    "**Nota:** Los factores no están obligados a sumar uno. Por eso no hay operación de condición en factores."
   ]
  },
  {
   "cell_type": "markdown",
   "metadata": {},
   "source": [
    "### Actividad"
   ]
  },
  {
   "cell_type": "markdown",
   "metadata": {},
   "source": [
    "1. Sean $\\phi_1$ y $\\phi_2$ los siguientes factores\n",
    "\n",
    "$$\\phi_1(X, Y)$$\n",
    "\n",
    "|   X   |   Y   | $\\phi_1$ |\n",
    "| ----- | ----- | -------- |\n",
    "| $x^0$ | $y^0$ | 0.8      |\n",
    "| $x^0$ | $y^1$ | 0.5      |\n",
    "| $x^1$ | $y^0$ | 0.5      |\n",
    "| $x^1$ | $y^1$ | 0.6      |\n",
    "\n",
    "$$\\phi_2(Y, Z)$$\n",
    "\n",
    "|   Y   |   Z   | $\\phi_2$ |\n",
    "| ----- | ----- | -------- |\n",
    "| $y^0$ | $z^0$ | 0.2      |\n",
    "| $y^0$ | $z^1$ | 0.2      |\n",
    "| $y^1$ | $z^0$ | 0.9      |\n",
    "| $y^1$ | $z^1$ | 1.0      |\n",
    "\n",
    "Si $\\psi(X,Y,Z) = \\phi_1(X, Y) \\phi_2(Y,Z)$\n",
    "- $\\psi(x^0, y^0, z^0)=0.16$\n",
    "- $\\psi(x^0, y^1, z^1)=0.5$\n",
    "- $\\psi(x^1, y^1, z^1)=0.6$"
   ]
  },
  {
   "cell_type": "markdown",
   "metadata": {},
   "source": [
    "2. Sea $\\phi_1$ el siguiente factor\n",
    "\n",
    "$$\\phi_1(X, Y, Z)$$\n",
    "\n",
    "|   X   |   Y   |   Z   | $\\phi_1$ |\n",
    "| ----- | ----- | ----- | -------- |\n",
    "| $x^0$ | $y^0$ | $z^0$ | 10       |\n",
    "| $x^0$ | $y^0$ | $z^1$ | 5        |\n",
    "| $x^0$ | $y^1$ | $z^0$ | 15       |\n",
    "| $x^0$ | $y^1$ | $z^1$ | 16       |\n",
    "| $x^1$ | $y^0$ | $z^0$ | 14       |\n",
    "| $x^1$ | $y^0$ | $z^1$ | 30       |\n",
    "| $x^1$ | $y^1$ | $z^0$ | 2        |\n",
    "| $x^1$ | $y^1$ | $z^1$ | 8        |\n",
    "\n",
    "Si $\\psi(X,Z) = \\phi_1(X, y^1, Z)$\n",
    "\n",
    "- $\\psi(x^0, z^0)=15$\n",
    "- $\\psi(x^0, z^1)=16$\n",
    "- $\\psi(x^1, z^1)=8$"
   ]
  },
  {
   "cell_type": "markdown",
   "metadata": {},
   "source": [
    "3. Sea $\\phi_1$ el siguiente factor\n",
    "\n",
    "$$\\phi_1(X, Y, Z)$$\n",
    "\n",
    "|   X   |   Y   |   Z   | $\\phi_1$ |\n",
    "| ----- | ----- | ----- | -------- |\n",
    "| $x^0$ | $y^0$ | $z^0$ | 10       |\n",
    "| $x^0$ | $y^0$ | $z^1$ | 5        |\n",
    "| $x^0$ | $y^1$ | $z^0$ | 15       |\n",
    "| $x^0$ | $y^1$ | $z^1$ | 16       |\n",
    "| $x^1$ | $y^0$ | $z^0$ | 14       |\n",
    "| $x^1$ | $y^0$ | $z^1$ | 30       |\n",
    "| $x^1$ | $y^1$ | $z^0$ | 2        |\n",
    "| $x^1$ | $y^1$ | $z^1$ | 8        |\n",
    "\n",
    "Si $\\psi(Y,Z) = \\sum_{X}\\phi_1(X, Y, Z)$\n",
    "\n",
    "- $\\psi(y^0, z^0)=24$\n",
    "- $\\psi(y^0, z^1)=35$\n",
    "- $\\psi(y^1, z^1)=24$"
   ]
  },
  {
   "cell_type": "markdown",
   "metadata": {},
   "source": [
    "___\n",
    "# 2. Fundamentos de Redes Bayesianas"
   ]
  },
  {
   "cell_type": "markdown",
   "metadata": {},
   "source": [
    "## 2.1. Semántica y factorización.\n",
    "\n",
    "Consideremos, de nuevo, el ejemplo del estudiante <font color=green> Ver en el tablero y discutir modelamiento a partir de las variables </font>\n",
    "\n",
    "Ahora, con las distribuciones condiconales:"
   ]
  },
  {
   "cell_type": "code",
   "execution_count": null,
   "metadata": {},
   "outputs": [],
   "source": [
    "Image(filename='figures/Student1.png')"
   ]
  },
  {
   "cell_type": "markdown",
   "metadata": {},
   "source": [
    "- Como vimos antes, este modelo se produjo pensando en las dependencias de las VA.\n",
    "\n",
    "- Se modela cada nodo con una distribución condicional."
   ]
  },
  {
   "cell_type": "markdown",
   "metadata": {},
   "source": [
    "Cuando todas las distribuciones condicionales están especificadas, tenemos una red Bayesiana completamente parametrizada, capaz de producir una distribución conjunta sobre todas las VA.\n",
    "\n",
    "¿Cómo? Regla de Bayes + independencia. <font color=green> Ver en el tablero </font> <font color=red> Descubrir deducción </font>\n",
    "\n",
    "\\begin{align}\n",
    "P(I, D, C, P, R) & = P(I, D, C, P) P(R | I, D, C, P) \\\\\n",
    "                 & = P(I, D, C) P(P | I, D, C) P(R | C) \\\\\n",
    "                 & = P(I, D) P(C | I, D) P(P | I) P(R | C) \\\\\n",
    "                 & = P(I) P(D | I) P(C | I, D) P(P | I) P(R | C) \\\\\n",
    "                 & = P(I) P(D) P(C | I, D) P(P | I) P(R | C) \\\\\n",
    "\\end{align}\n",
    "\n",
    "Por ejemplo,\n",
    "\n",
    "$$P(i^1, d^0, c^0, p^1, r^1)=P(i^1) P(d^0) P(c^0 | i^1, d^0) P(p^1 | i^1) P(r^1 | c^0) = 0.3 \\times 0.6 \\times 0.02 \\times 0.8 \\times 0.01 $$"
   ]
  },
  {
   "cell_type": "markdown",
   "metadata": {},
   "source": [
    "Formalmente:\n",
    "\n",
    "> *Definición.* Una **estructura de red Bayesiana** es un grafo acíclico dirigido, $\\mathcal{G}$, cuyos nodos representan un conjunto de VA $\\{X_1, \\dots, X_n\\}$. Sean $\\mathrm{Pa}_{\\mathcal{G}}X_i$ los nodos padres de $X_i$ en $\\mathcal{G}$, y $\\mathrm{NoDescendientes}_{\\mathcal{G}}X_i$ los nodos que no son descendientes de $X_i$ en $\\mathcal{G}$. Entonces, $\\mathcal{G}$ codifica el siguiente conjunto de **independencias locales**\n",
    ">\n",
    "> $$\\mathcal{I}_{l}(\\mathcal{G}) = \\{(X_i \\perp \\mathrm{NoDescendientes}_{\\mathcal{G}}X_i | \\mathrm{Pa}_{\\mathcal{G}}X_i)\\}.$$"
   ]
  },
  {
   "cell_type": "markdown",
   "metadata": {},
   "source": [
    "De esta manera, \n",
    "\n",
    "> *Definición.* Dado un grafo $\\mathcal{G}$ sobre $\\{X_1, \\dots, X_n\\}$, decimos que **$P$ factoriza sobre $\\mathcal{G}$** si \n",
    ">\n",
    "> $$P(X_1, \\dots, X_n) = \\prod_{i=1}^{n} P(X_i | \\mathrm{Pa}_{\\mathcal{G}}X_i).$$"
   ]
  },
  {
   "cell_type": "markdown",
   "metadata": {},
   "source": [
    "Finalmente,\n",
    "\n",
    "> *Definición.* Una **red Bayesiana** es un par $\\mathcal{B}=(\\mathcal{G}, P)$ donde $P$ factoriza sobre $\\mathcal{G}$ y $P$ está especificada como un conjunto de distribuciones condicionales de la forma $P(X_i | \\mathrm{Pa}_{\\mathcal{G}}X_i)$ asociada a cada nodo de la red."
   ]
  },
  {
   "cell_type": "markdown",
   "metadata": {},
   "source": [
    "**Actividad.**\n",
    "\n",
    "1. Obtener las independencias locales que codifica la red Bayesiana del estudiante.\n",
    "\n",
    "2. Comparar el número de parámetros independientes que necesita la red Bayesiana del estudiante contra el número de parámetros que necesitaría la distribución conjunta sin ninguna suposición de independencia.\n",
    "\n",
    "$1 (D) + 1 (I) + 8 (C) + 2 (P) + 3 (R) = 15$ parámetros"
   ]
  },
  {
   "cell_type": "markdown",
   "metadata": {},
   "source": [
    "**¿Cómo declarar una red Bayesiana en pgmpy?**"
   ]
  },
  {
   "cell_type": "code",
   "execution_count": null,
   "metadata": {},
   "outputs": [],
   "source": [
    "# Importamos pgmpy.models.BayesianModel\n",
    "\n",
    "# Importamos pgmpy.factors.discrete.TabularCPD\n"
   ]
  },
  {
   "cell_type": "code",
   "execution_count": null,
   "metadata": {},
   "outputs": [],
   "source": [
    "# Definimos el esqueleto de la red mediante los arcos\n"
   ]
  },
  {
   "cell_type": "code",
   "execution_count": null,
   "metadata": {},
   "outputs": [],
   "source": [
    "# Definimos distribución condicional de D\n",
    "\n",
    "# Definimos distribución condicional de I\n"
   ]
  },
  {
   "cell_type": "code",
   "execution_count": null,
   "metadata": {},
   "outputs": [],
   "source": []
  },
  {
   "cell_type": "markdown",
   "metadata": {},
   "source": [
    "La representación de las distribuciones condicionales en `pgmpy` es un poquito distinto a como está en el dibujo de arriba. En `pgmpy` las columnas representan evidencia, y las filas los distintos estados de la variable en la distribución condicional:\n",
    "\n",
    "|         | $i^0 d^0$ | $i^0 d^1$ | $i^1 d^0$ | $i^1 d^1$ |\n",
    "| ------- | --------- | --------- | --------- | --------- |\n",
    "| $c^0$   | 0.3       | 0.7       | 0.02      | 0.2       |\n",
    "| $c^1$   | 0.4       | 0.25      | 0.08      | 0.3       |\n",
    "| $c^2$   | 0.3       | 0.05      | 0.9       | 0.5       |"
   ]
  },
  {
   "cell_type": "code",
   "execution_count": null,
   "metadata": {},
   "outputs": [],
   "source": [
    "# Definimos distribución condicional de C\n",
    "\n",
    "# Definimos distribución condicional de P\n",
    "\n",
    "# Definimos distribución condicional de R\n"
   ]
  },
  {
   "cell_type": "code",
   "execution_count": null,
   "metadata": {},
   "outputs": [],
   "source": [
    "# Asociamos las distribuciones condicionales a la red\n"
   ]
  },
  {
   "cell_type": "code",
   "execution_count": null,
   "metadata": {},
   "outputs": [],
   "source": [
    "# Check the model for various errors. This method checks for the following errors:  \n",
    "# * Checks if the sum of the probabilities for each state is equal to 1 (tol=0.01).\n",
    "# * Checks if the CPDs associated with nodes are consistent with their parents.\n"
   ]
  },
  {
   "cell_type": "markdown",
   "metadata": {},
   "source": [
    "Una vez tenemos el modelo, podemos hacer varias cosas con él. Entre ellas, podemos verificar las independencias locales que codifica el modelo:"
   ]
  },
  {
   "cell_type": "code",
   "execution_count": null,
   "metadata": {},
   "outputs": [],
   "source": [
    "# Verificar las independencias locales que implica el modelo\n"
   ]
  },
  {
   "cell_type": "markdown",
   "metadata": {},
   "source": [
    "### 2.1.1. Patrones de razonamiento\n",
    "\n",
    "Teniendo una situación modelada con una red Bayesiana, nos podemos plantear tres tipos básicos de razonamientos que poríamos querer resolver:"
   ]
  },
  {
   "cell_type": "markdown",
   "metadata": {},
   "source": [
    "**1. Razonamiento causal**"
   ]
  },
  {
   "cell_type": "markdown",
   "metadata": {},
   "source": [
    "Se refiere a cuando tenemos evidencia de causas y queremos razonar acerca de efectos"
   ]
  },
  {
   "cell_type": "code",
   "execution_count": null,
   "metadata": {},
   "outputs": [],
   "source": [
    "Image(filename='figures/Student2.png')"
   ]
  },
  {
   "cell_type": "markdown",
   "metadata": {},
   "source": [
    "Por ejemplo, la probabilidad de obtener una buena carta de recomendación es:\n",
    "\n",
    "$$P(r^1) = \\sum_{D,I,C,P} P(D,I,C,P,r^1) \\approx 0.5.$$\n",
    "\n",
    "Sin embargo, podemos evaluar cómo esta probabilidad cambia si la condicionamos sobre la inteligencia. Por ejemplo, si el estudiante no es muy inteligente\n",
    "\n",
    "$$P(r^1 | i^0) = \\frac{P(r^1, i^0)}{P(i^0)} = \\frac{\\sum_{D,C,P} P(D, i^0, C, P, r^1)}{\\sum_{D,C,P,R} P(D, i^0, C, P, R)} \\approx 0.39.$$\n",
    "\n",
    "*¿Se esperaba esto o no?*"
   ]
  },
  {
   "cell_type": "markdown",
   "metadata": {},
   "source": [
    "Por otra parte, si también condicionamos sobre la dificultad\n",
    "\n",
    "$$P(r^1 | i^0, d^0) = \\frac{P(r^1, i^0, d^0)}{P(i^0, d^0)} = \\frac{\\sum_{C,P} P(d^0, i^0, C, P, r^1)}{\\sum_{C,P,R} P(d^0, i^0, C, P, R)} \\approx 0.51.$$\n",
    "\n",
    "*¿Se esperaba esto o no?*"
   ]
  },
  {
   "cell_type": "markdown",
   "metadata": {},
   "source": [
    "**2. Razonamiento evidencial**\n",
    "\n",
    "Se refiere a cuando tenemos evidencia de los efectos y que remos razonar acerca de las causas"
   ]
  },
  {
   "cell_type": "code",
   "execution_count": null,
   "metadata": {},
   "outputs": [],
   "source": [
    "Image(filename='figures/Student3.png')"
   ]
  },
  {
   "cell_type": "markdown",
   "metadata": {},
   "source": [
    "Por ejemplo, la probabilidad de que el curso sea difícil es:\n",
    "\n",
    "$$P(d^1) = 0.4.$$\n",
    "\n",
    "Condicionando sobre la calificación:\n",
    "\n",
    "$$P(d^1 | c^0) = \\frac{P(d^1, c^0)}{P(c^0)} = \\frac{\\sum_{I,P,R} P(d^1, I, c^0, P, R)}{\\sum_{D,I,P,R} P(D, I, c^0, P, R)} \\approx 0.63.$$"
   ]
  },
  {
   "cell_type": "markdown",
   "metadata": {},
   "source": [
    "Similarmente, la probabilidad de que el estudiante sea inteligente es:\n",
    "\n",
    "$$P(i^1) = 0.3.$$\n",
    "\n",
    "Condicionando sobre la calificación:\n",
    "\n",
    "$$P(i^1 | c^0) = \\frac{P(i^1, c^0)}{P(c^0)} = \\frac{\\sum_{D,P,R} P(D, i^1, c^0, P, R)}{\\sum_{D,I,P,R} P(D, I, c^0, P, R)} \\approx 0.08.$$"
   ]
  },
  {
   "cell_type": "markdown",
   "metadata": {},
   "source": [
    "**3. Razonamiento intercausal**\n",
    "\n",
    "Se refiere a cuando hay flujo de información entre dos causas de un mismo efecto (por ejemplo, Dificultad e Inteligencia son causas de la Calificación).\n",
    "\n",
    "¿Cómo es posible esto si dijimos que $(D\\perp I)$? Veremos que en este caso cuando tenemos información de la causa, se produce este efecto."
   ]
  },
  {
   "cell_type": "markdown",
   "metadata": {},
   "source": [
    "De nuevo, la probabilidad de que el estudiante sea inteligente es:\n",
    "\n",
    "$$P(i^1) = 0.3.$$\n",
    "\n",
    "Condicionando sobre la calificación:\n",
    "\n",
    "$$P(i^1 | c^0) = \\frac{P(i^1, c^0)}{P(c^0)} \\approx 0.08.$$\n",
    "\n",
    "Aún más, si condicionamos sobre la dificultad:\n",
    "\n",
    "$$P(i^1 | c^0, d^1) = \\frac{P(i^1, c^0, d^1)}{P(c^0, d^1)} \\approx 0.11.$$"
   ]
  },
  {
   "cell_type": "markdown",
   "metadata": {},
   "source": [
    "Este tipo de razonamiento es un poco complejo de comprender, pues no tenemos relación directa (un arco en la red) entre $I$, y $D$. "
   ]
  },
  {
   "cell_type": "markdown",
   "metadata": {},
   "source": [
    "### 2.1.2. Flujo de influencia probabilística"
   ]
  },
  {
   "cell_type": "markdown",
   "metadata": {},
   "source": [
    "Ya hemos visto entonces que en una red Bayesiana, el conocimiento de ciertos nodos influencian a otros. Una propiedad atractiva de la codificaición de distribuciones en los grafos es poder definir a partir de la estructura del grafo cuándo el conocimiento acerca de una variable puede o no influenciar la probabilidad de a otra."
   ]
  },
  {
   "cell_type": "markdown",
   "metadata": {},
   "source": [
    "**¿Cuando puede $X$ influenciar a $Y$?** (Sin evidencia)"
   ]
  },
  {
   "cell_type": "code",
   "execution_count": null,
   "metadata": {},
   "outputs": [],
   "source": [
    "Image(filename='figures/Causal.png')"
   ]
  },
  {
   "cell_type": "markdown",
   "metadata": {},
   "source": [
    "¿Si o no?"
   ]
  },
  {
   "cell_type": "code",
   "execution_count": null,
   "metadata": {},
   "outputs": [],
   "source": [
    "Image(filename='figures/Evidential.png')"
   ]
  },
  {
   "cell_type": "markdown",
   "metadata": {},
   "source": [
    "¿Si o no?"
   ]
  },
  {
   "cell_type": "code",
   "execution_count": null,
   "metadata": {},
   "outputs": [],
   "source": [
    "Image(filename='figures/Causal2.png')"
   ]
  },
  {
   "cell_type": "markdown",
   "metadata": {},
   "source": [
    "¿Si o no? "
   ]
  },
  {
   "cell_type": "code",
   "execution_count": null,
   "metadata": {},
   "outputs": [],
   "source": [
    "Image(filename='figures/Evidential2.png')"
   ]
  },
  {
   "cell_type": "markdown",
   "metadata": {},
   "source": [
    "¿Si o no? "
   ]
  },
  {
   "cell_type": "code",
   "execution_count": null,
   "metadata": {},
   "outputs": [],
   "source": [
    "Image(filename='figures/CommonCause.png')"
   ]
  },
  {
   "cell_type": "markdown",
   "metadata": {},
   "source": [
    "¿Si o no? "
   ]
  },
  {
   "cell_type": "code",
   "execution_count": null,
   "metadata": {},
   "outputs": [],
   "source": [
    "Image(filename='figures/CommonEvidence.png')"
   ]
  },
  {
   "cell_type": "markdown",
   "metadata": {},
   "source": [
    "Esta estructura se conoce también como **estructura V**.\n",
    "\n",
    "¿Si o no? "
   ]
  },
  {
   "cell_type": "markdown",
   "metadata": {},
   "source": [
    "A partir del análisis anterior:\n",
    "\n",
    "> *Definición.* Un **camino** es una sucesión de nodos que están conectados por arcos simples en el grafo.\n",
    "\n",
    "Por ejemplo, $D-C-R$, $D-C-I-P$ en el ejemplo del estudiante son caminos.\n",
    "\n",
    "> *Definición.* Decimos que un camino $X_1 - \\dots - X_k$ (sin evidencia) está **activo** si no contiene estructuras V.\n",
    "\n",
    "Por tanto, sin evidencia, el camino $D-C-R$ está activo, pero $D-C-I-P$ no. "
   ]
  },
  {
   "cell_type": "code",
   "execution_count": null,
   "metadata": {},
   "outputs": [],
   "source": [
    "Image(filename='figures/Student.png')"
   ]
  },
  {
   "cell_type": "markdown",
   "metadata": {},
   "source": [
    "Ahora,\n",
    "\n",
    "**¿Cuando puede $X$ influenciar a $Y$ dada evidencia de $\\bar{Z}$?**"
   ]
  },
  {
   "cell_type": "code",
   "execution_count": null,
   "metadata": {},
   "outputs": [],
   "source": [
    "Image(filename='figures/Causal.png')"
   ]
  },
  {
   "cell_type": "markdown",
   "metadata": {},
   "source": [
    "¿Si o no? "
   ]
  },
  {
   "cell_type": "code",
   "execution_count": null,
   "metadata": {},
   "outputs": [],
   "source": [
    "Image(filename='figures/Evidential.png')"
   ]
  },
  {
   "cell_type": "markdown",
   "metadata": {},
   "source": [
    "¿Si o no? "
   ]
  },
  {
   "cell_type": "code",
   "execution_count": null,
   "metadata": {},
   "outputs": [],
   "source": [
    "Image(filename='figures/Causal2.png')"
   ]
  },
  {
   "cell_type": "markdown",
   "metadata": {},
   "source": [
    "1. $W \\in \\bar{Z}$\n",
    "\n",
    "   ¿Si o no? \n",
    "\n",
    "2. $W \\notin \\bar{Z}$\n",
    "\n",
    "   ¿Si o no? "
   ]
  },
  {
   "cell_type": "code",
   "execution_count": null,
   "metadata": {},
   "outputs": [],
   "source": [
    "Image(filename='figures/Evidential2.png')"
   ]
  },
  {
   "cell_type": "markdown",
   "metadata": {},
   "source": [
    "1. $W \\in \\bar{Z}$\n",
    "\n",
    "   ¿Si o no? \n",
    "\n",
    "2. $W \\notin \\bar{Z}$\n",
    "\n",
    "   ¿Si o no? "
   ]
  },
  {
   "cell_type": "code",
   "execution_count": null,
   "metadata": {},
   "outputs": [],
   "source": [
    "Image(filename='figures/CommonCause.png')"
   ]
  },
  {
   "cell_type": "markdown",
   "metadata": {},
   "source": [
    "1. $W \\in \\bar{Z}$\n",
    "\n",
    "   ¿Si o no? \n",
    "\n",
    "2. $W \\notin \\bar{Z}$\n",
    "\n",
    "   ¿Si o no? "
   ]
  },
  {
   "cell_type": "code",
   "execution_count": null,
   "metadata": {},
   "outputs": [],
   "source": [
    "Image(filename='figures/CommonEvidence.png')"
   ]
  },
  {
   "cell_type": "markdown",
   "metadata": {},
   "source": [
    "1. $W \\in \\bar{Z}$ (o alguno de los descendientes de $W$ está en $\\bar{Z}$)\n",
    "\n",
    "   ¿Si o no? \n",
    "\n",
    "2. $W \\notin \\bar{Z}$ (y ninguno de los descendientes de $W$ está en $\\bar{Z}$)\n",
    "\n",
    "   ¿Si o no? "
   ]
  },
  {
   "cell_type": "markdown",
   "metadata": {},
   "source": [
    "Por ejemplo, $D-C-I-P$ está activo cuando:\n",
    "\n",
    "- \n",
    "- "
   ]
  },
  {
   "cell_type": "markdown",
   "metadata": {},
   "source": [
    "> *Definición.* Decimos que un camino $X_1 - \\dots - X_k$ está **activo dado $\\bar{Z}$** si:\n",
    "> - para toda estructura V $X_{i-1} \\leftarrow X_{i} \\rightarrow X_{i+1}$ tenemos que $X_i$ o alguno de sus descendientes es observado (está en $\\bar{Z}$), y\n",
    "> - ningún otro nodo (que no esté en estructuras V) es observado (está en $\\bar{Z}$)."
   ]
  },
  {
   "cell_type": "markdown",
   "metadata": {},
   "source": [
    "___\n",
    "\n",
    "## 2.2. Independencia en redes Bayesianas"
   ]
  },
  {
   "cell_type": "markdown",
   "metadata": {},
   "source": [
    "Comenzamos recordando los conceptos de independencia e independencia condicional.\n",
    "\n",
    "Vimos que, dadas dos VA $X,Y$, la distribución $P$ satisface $(X \\perp Y)$ si se cumple alguna de las siguientes:\n",
    "\n",
    "- $P(X,Y) = P(X) P(Y)$,\n",
    "- $P(X | Y) = P(X)$,\n",
    "- $P(Y | X) = P(Y)$.\n",
    "\n",
    "Similarmente, dadas las VA $X,Y,Z$, decimos que la distribución $P$ satiface $(X \\perp Y | Z)$ si se cumple alguna de las siguientes:\n",
    "\n",
    "- $P(X,Y|Z) = P(X|Z) P(Y|Z)$,\n",
    "- $P(X | Y, Z) = P(X | Z)$,\n",
    "- $P(Y | X, Z) = P(Y | Z)$."
   ]
  },
  {
   "cell_type": "markdown",
   "metadata": {},
   "source": [
    "De donde vemos que los conceptos de independencia están fuertemente relacionados con la factorización de distribuciones. \n",
    "\n",
    "De manera que, si sabemos que $P$ factoriza sobre el grafo $\\mathcal{G}$, **¿podemos leer dichas independencias a partir de la estructura de $\\mathcal{G}$?**"
   ]
  },
  {
   "cell_type": "markdown",
   "metadata": {},
   "source": [
    "Antes de continuar, se hace necesaria la siguiente definición acerca del conjunto de independencias asociado con una distribución:\n",
    "\n",
    "> *Definición.* Sea $P$ una distribución. Definimos $\\mathcal{I}(P)$ como el conjunto de independencias (tanto condicionales como no condicionales) de la forma $(X \\perp Y)$ o $(X \\perp Y | Z)$ que se satisfacen en $P$.\n",
    "\n",
    "De manera que para decir \"$P$ satisface las independencias locales en $\\mathcal{G}$\", podemos simplemente escribir $\\mathcal{I}_l(\\mathcal{G}) \\subseteq \\mathcal{I}(P)$.\n",
    "\n",
    "Ahora, veamos una definición para el conjunto de independencias que pueden ser codificadas en un grafo.\n",
    "\n",
    "> *Definición.* Sea $\\mathcal{G}$ un grafo asociado con un conjunto de independencias $\\mathcal{I}(\\mathcal{G})$. Decimos que $\\mathcal{G}$ es un I-map para un conjunto de independencias $\\mathcal{I}$ si \n",
    ">\n",
    "> $$\\mathcal{I}(\\mathcal{G}) \\subseteq \\mathcal{I}.$$\n",
    "\n",
    "De lo anterior, hacemos cierto abuso del lenguaje cuando decimos \"$\\mathcal{G}$ es in I-map para $P$\" significando esto que $\\mathcal{I}(\\mathcal{G}) \\subseteq \\mathcal{I}(P)$.\n",
    "\n",
    "Notamos que para que un grafo $\\mathcal{G}$ sea un I-map para una distribución $P$ se requiere que cualquier independencia en $\\mathcal{G}$ está presente en $P$; sin embargo $P$ puede tener independencias adicionales que no estén en $\\mathcal{G}$."
   ]
  },
  {
   "cell_type": "markdown",
   "metadata": {},
   "source": [
    "### 2.2.1. I-map $\\Rightarrow$ factorización\n",
    "\n",
    "Con las anteriores definiciones estamos listos para el siguiente resultado."
   ]
  },
  {
   "cell_type": "markdown",
   "metadata": {},
   "source": [
    "> *Teorema.* Sea $\\mathcal{G}$ una estructura de red Bayesiana y $P$ una distribución, ambas sobre $\\{X_1, \\dots, X_n\\}$. Si $\\mathcal{G}$ es un I-map para $P$, entonces $P$ factoriza sobre $\\mathcal{G}$.\n",
    "\n",
    "> *Prueba*. En clase ..."
   ]
  },
  {
   "cell_type": "markdown",
   "metadata": {},
   "source": [
    "Lo que el teorema anterior dice es que las suposiciones de independencia implicadas por el grafo $\\mathcal{G}$ nos permiten factorizar una distribución $P$, para la cual $\\mathcal{G}$ es un I-map, en pequeñas distribuciones condicionales."
   ]
  },
  {
   "cell_type": "markdown",
   "metadata": {},
   "source": [
    "### 2.2.2. Factorización $\\Rightarrow$ I-map\n",
    "\n",
    "Resulta que no solo las independencias locales en un grafo nos permiten factorizar distribuciones sobre él, sino que estas dos nociones son completamente equivalentes."
   ]
  },
  {
   "cell_type": "markdown",
   "metadata": {},
   "source": [
    "> *Teorema.* Sea $\\mathcal{G}$ una estructura de red Bayesiana y $P$ una distribución, ambas sobre $\\{X_1, \\dots, X_n\\}$. Si $P$ factoriza sobre $\\mathcal{G}$, entonces $\\mathcal{G}$ es un I-map para $P$.\n"
   ]
  },
  {
   "cell_type": "markdown",
   "metadata": {},
   "source": [
    "# Conclusión\n",
    "\n",
    "En esta clase vimos:\n",
    "\n",
    "1. El concepto de **factor**, que son el bloque constructor para definir distribuciones de alta dimensionalidad tanto en redes Bayesianas como en redes de Markov.\n",
    "\n",
    "2. Los conceptos básicos de redes Bayesianas: cómo se construyen, cuando una distribución se factoriza sobre ellas y cómo hacerlo. Adicionalmente, vimos cómo declarar este tipo de objetos usando la librería de `pgmpy`.\n",
    "\n",
    "3. Finalmente, vimos que las nociones de que un grafo codifica las independencias de una distribución (I-map) y de que una distribución se pueda factorizar sobre un grafo son **equivalentes**."
   ]
  },
  {
   "cell_type": "markdown",
   "metadata": {},
   "source": [
    "# Anuncios parroquiales\n",
    "\n",
    "### 1. Quiz."
   ]
  },
  {
   "cell_type": "markdown",
   "metadata": {},
   "source": [
    "<script>\n",
    "  $(document).ready(function(){\n",
    "    $('div.prompt').hide();\n",
    "    $('div.back-to-top').hide();\n",
    "    $('nav#menubar').hide();\n",
    "    $('.breadcrumb').hide();\n",
    "    $('.hidden-print').hide();\n",
    "  });\n",
    "</script>\n",
    "\n",
    "<footer id=\"attribution\" style=\"float:right; color:#808080; background:#fff;\">\n",
    "Created with Jupyter by Esteban Jiménez Rodríguez.\n",
    "</footer>"
   ]
  }
 ],
 "metadata": {
  "kernelspec": {
   "display_name": "Python 3",
   "language": "python",
   "name": "python3"
  },
  "language_info": {
   "codemirror_mode": {
    "name": "ipython",
    "version": 3
   },
   "file_extension": ".py",
   "mimetype": "text/x-python",
   "name": "python",
   "nbconvert_exporter": "python",
   "pygments_lexer": "ipython3",
   "version": "3.7.6"
  }
 },
 "nbformat": 4,
 "nbformat_minor": 4
}
