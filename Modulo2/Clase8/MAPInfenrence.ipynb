{
 "cells": [
  {
   "cell_type": "markdown",
   "metadata": {},
   "source": [
    "# MAP inference\n",
    "\n",
    "<img style=\"float: right; margin: 0px 0px 15px 15px;\" src=\"https://upload.wikimedia.org/wikipedia/commons/e/ed/Bayes_icon.svg\" width=\"300px\" height=\"300px\" />\n",
    "\n",
    "> In classes 6 and 7 we focused our attention to inference methods the find conditional probability queries. In this class, we turn our attention to MAP queries, which are also very useful in several applications (recall the motivating example of the first class).\n",
    ">\n",
    "> As a reminder, a MAP query aims to find the most likely assignment to all of the non-evidence variables. Similarly, a marginal MAP query aims to find the most likely assignment to a subset of the variables.\n",
    "\n",
    "> **Objetives:**\n",
    "> - To reformulate the Variable Elimination method for MAP inference.\n",
    "> - To reformulate the Belief Propagation algorithm for MAP inference.\n",
    "\n",
    "> **References:**\n",
    "> - Probabilistic Graphical Models: Principles and Techniques, By Daphne Koller and Nir Friedman. Ch. 13.\n",
    "> - Mastering Probabilistic Graphical Models Using Python, By Ankur Ankan and Abinash Panda. Ch. 3.\n",
    "> - Probabilistic Graphical Models Specialization, offered through Coursera. Prof. Daphne Koller.\n",
    "\n",
    "\n",
    "<p style=\"text-align:right;\"> Imagen recuperada de: https://upload.wikimedia.org/wikipedia/commons/e/ed/Bayes_icon.svg.</p>\n",
    "\n",
    "___"
   ]
  },
  {
   "cell_type": "markdown",
   "metadata": {},
   "source": [
    "# 1. Variable Elimination\n",
    "\n",
    "We begin studying the most fundamental inference algorithm: variable elimination."
   ]
  },
  {
   "cell_type": "markdown",
   "metadata": {},
   "source": [
    "## 1.1. Max-product variable elimination\n",
    "\n",
    "Let's introduce this problem though a simple example.\n",
    "\n",
    "**Example.** Consider the following BN"
   ]
  },
  {
   "cell_type": "code",
   "execution_count": 1,
   "metadata": {},
   "outputs": [],
   "source": [
    "from IPython.display import Image"
   ]
  },
  {
   "cell_type": "code",
   "execution_count": 2,
   "metadata": {},
   "outputs": [],
   "source": [
    "Image(\"figures/simpleExample.png\")"
   ]
  },
  {
   "cell_type": "markdown",
   "metadata": {},
   "source": [
    "Or goal is to compute:\n",
    "\n",
    "$$\\begin{align}\n",
    "\\max_{a,b} P(A=a, B=b)  & = \\max_{a,b} P(A=a)P(B=b | A=a) \\\\\n",
    "                        & = \\max_{a} \\max_{b} P(A=a)P(B=b | A=a).\n",
    "\\end{align}$$"
   ]
  },
  {
   "cell_type": "markdown",
   "metadata": {},
   "source": [
    "From this last form, we would want to choose $a$ so that\n",
    "\n",
    "$$\\max_{b} P(A=a)P(B=b | A=a) = P(A=a) \\max_{b}P(B=b | A=a)$$\n",
    "\n",
    "is maximum. Hence,\n",
    "\n",
    "- a **necessary condition** of the joint MAP assignment $a,b$ is that $b$ is selected to maximize $P(B=b | A=a)$. \n",
    "\n",
    "- This is not sufficient, however, since we must choose $a$ appropriately."
   ]
  },
  {
   "cell_type": "markdown",
   "metadata": {},
   "source": [
    "For instance, consider the following CPDs"
   ]
  },
  {
   "cell_type": "code",
   "execution_count": 3,
   "metadata": {},
   "outputs": [],
   "source": [
    "Image(\"figures/simpleExample2.png\")"
   ]
  },
  {
   "cell_type": "markdown",
   "metadata": {},
   "source": [
    "Let's denote $\\max_{b}P(B=b | A=a) = \\phi_1(a)$. Then \n",
    "\n",
    "- $\\phi_1(a^0)=0.9$\n",
    "- $\\phi_1(a^1)=0.55$\n",
    "\n",
    "Finally,\n",
    "\n",
    "$$\\max_{a} P(a) \\phi_1(a) = \\max_{a} \\phi_2(a)=0.36$$\n",
    "\n",
    "| $A$ | $\\phi_2$           |\n",
    "| --- | ------------------ |\n",
    "|$a^0$|$0.9\\times0.4=0.36$ |\n",
    "|$a^1$|$0.55\\times0.6=0.33$|"
   ]
  },
  {
   "cell_type": "markdown",
   "metadata": {},
   "source": [
    "### Important comments:"
   ]
  },
  {
   "cell_type": "markdown",
   "metadata": {},
   "source": [
    "- One can note that the operation $\\max_{b}P(B=b | A=a) = \\phi_1(a)$ corresponds to a *max-marginalization* of the $P(B|A)$ factor."
   ]
  },
  {
   "cell_type": "markdown",
   "metadata": {},
   "source": [
    "- Just like in conditional probability queries, this step marginalizes out the variable $B$, not by summing, but by maximizing it."
   ]
  },
  {
   "cell_type": "markdown",
   "metadata": {},
   "source": [
    "- One key point is: Assume we are given two factors $\\phi_1,\\phi_2$ and that $X\\notin \\mathrm{scope}[\\phi_1]$, then\n",
    "\n",
    "  $$\\max_{X} \\phi_1 \\phi_2 = \\phi_1 \\max_{X} \\phi_2.$$\n",
    " \n",
    "  This is, we can push in the maximization operations (just as we push in the summation operations) over factors that don't involve the variable being maximized. Similarly,\n",
    "  \n",
    "  $$\\max_{X} (\\phi_1 + \\phi_2) = \\phi_1 + \\max_{X} \\phi_2.$$"
   ]
  },
  {
   "cell_type": "markdown",
   "metadata": {},
   "source": [
    "The final comment directly leads to the **max-product and max-sum variable elimination algorithms** which is completely dual to the **sum-prod variable elimination algorithm** that we studied in class 6."
   ]
  },
  {
   "cell_type": "markdown",
   "metadata": {},
   "source": [
    "### Max-product variable elimination algorithm\n",
    "\n",
    "We will describe the steps for eliminating some variable $Z$ from $\\bar{\\Phi}$: *Eliminate Var-$Z$ from $\\bar{\\Phi}$*.\n",
    "\n",
    "1. Determine the set of factors that involve $Z$:\n",
    "\n",
    "   $$\\bar{\\Phi}' = \\left\\{\\phi_i \\in \\bar{\\Phi} : Z  \\in \\mathrm{scope}[\\phi_i]\\right\\}$$\n",
    "\n",
    "2. Compute:\n",
    "\n",
    "   $$\\psi = \\prod_{\\phi_i \\in \\bar{\\Phi}'} \\phi_i$$\n",
    "   \n",
    "3. Compute:\n",
    "\n",
    "   $$\\tau = \\max_Z \\psi$$\n",
    "   \n",
    "   Store the value $z^\\ast$ that maximizes $\\psi$.\n",
    "   \n",
    "4. Overwrite:\n",
    "   \n",
    "   $$\\bar{\\Phi} := \\left(\\bar{\\Phi}\\setminus \\bar{\\Phi}'\\right) \\cup \\{\\tau\\}$$"
   ]
  },
  {
   "cell_type": "markdown",
   "metadata": {},
   "source": [
    "Thus, the complete algorithm can be described as:"
   ]
  },
  {
   "cell_type": "markdown",
   "metadata": {},
   "source": [
    "1. The first step is to reduce all factors in $\\bar{\\Phi}$ acording to the given evidence, if any."
   ]
  },
  {
   "cell_type": "markdown",
   "metadata": {},
   "source": [
    "2. For each non-query variable $Z$:\n",
    "   - Eliminate Var-$Z$ from $\\bar{\\Phi}$."
   ]
  },
  {
   "cell_type": "markdown",
   "metadata": {},
   "source": [
    "3. Multiply all the remaining factors."
   ]
  },
  {
   "cell_type": "markdown",
   "metadata": {},
   "source": [
    "## 1.2. Max-sum variable elimination algorithm\n",
    "\n",
    "Often, the values of some factors are so small that, when multipled together, they may produce values that are less than the processor/memory resolution: **numerical underflow**.\n",
    "\n",
    "One effective way of dealing with this situation is to consider the $\\log$ of the factors.\n",
    "\n",
    "We have that:\n",
    "\n",
    "$$P_{\\bar{\\Phi}} (\\bar{X}) \\propto \\prod_{k} \\phi_{k} (\\bar{X}_k)$$\n",
    "\n",
    "and we want,\n",
    "\n",
    "$$\\arg \\max_{X} \\prod_{k} \\phi_{k} (\\bar{X}_k) = \\arg \\max_{X} \\log\\left(\\prod_{k} \\phi_{k} (\\bar{X}_k)\\right) = \\arg \\max_{X} \\sum_{k} \\log\\left(\\phi_{k} (\\bar{X}_k)\\right),$$\n",
    "\n",
    "since the $\\log$ is an increasing function."
   ]
  },
  {
   "cell_type": "markdown",
   "metadata": {},
   "source": [
    "Thus, converting factors with the logarithm allows us to interchange products by sum, obtaining some **practical robustness against numerical underflow**.\n",
    "\n",
    "The algorithm is completely analogous:"
   ]
  },
  {
   "cell_type": "markdown",
   "metadata": {},
   "source": [
    "### Max-sum variable elimination algorithm\n",
    "\n",
    "We will describe the steps for eliminating some variable $Z$ from $\\bar{\\Phi}$: *Eliminate Var-$Z$ from $\\bar{\\Phi}$*.\n",
    "\n",
    "0. Take the $log$ of all the factors:\n",
    "\n",
    "   $$\\theta_k(\\bar{X}_k) = \\log{\\phi_k}(\\bar{X}_k).$$\n",
    "   \n",
    "   $$\\bar{\\Theta} = \\{\\theta_{1}(\\bar{X}_1), \\dots, \\theta_{m}(\\bar{X}_m)\\}.$$\n",
    "\n",
    "1. Determine the set of factors that involve $Z$:\n",
    "\n",
    "   $$\\bar{\\Theta}' = \\left\\{\\theta_i \\in \\bar{\\Theta} : Z  \\in \\mathrm{scope}[\\theta_i]\\right\\}$$\n",
    "\n",
    "2. Compute:\n",
    "\n",
    "   $$\\psi = \\sum_{\\theta_i \\in \\bar{\\Theta}'} \\phi_i$$\n",
    "   \n",
    "3. Compute:\n",
    "\n",
    "   $$\\tau = \\max_Z \\psi$$\n",
    "   \n",
    "   Store the value $z^\\ast$ that maximizes $\\psi$.\n",
    "   \n",
    "4. Overwrite:\n",
    "   \n",
    "   $$\\bar{\\Theta} := \\left(\\bar{\\Theta}\\setminus \\bar{\\Theta}'\\right) \\cup \\{\\tau\\}$$"
   ]
  },
  {
   "cell_type": "markdown",
   "metadata": {},
   "source": [
    "How is this done in `pgmpy`?"
   ]
  },
  {
   "cell_type": "code",
   "execution_count": 4,
   "metadata": {},
   "outputs": [],
   "source": [
    "Image(\"figures/restaurant.png\")"
   ]
  },
  {
   "cell_type": "code",
   "execution_count": 5,
   "metadata": {},
   "outputs": [],
   "source": [
    "# Import pgmpy.models.BayesianModel\n",
    "from pgmpy.models import BayesianModel\n",
    "# Import pgmpy.factors.discrete.TabularCPD\n",
    "from pgmpy.factors.discrete import TabularCPD"
   ]
  },
  {
   "cell_type": "code",
   "execution_count": 6,
   "metadata": {},
   "outputs": [],
   "source": [
    "# Define model skeleton\n",
    "restaurant = BayesianModel([('L', 'C'), ('Q', 'C'), ('L', 'N'), ('C', 'N')])"
   ]
  },
  {
   "cell_type": "code",
   "execution_count": 7,
   "metadata": {},
   "outputs": [],
   "source": [
    "# Define CPDs\n",
    "P_L = TabularCPD(variable='L',\n",
    "                 variable_card=2,\n",
    "                 values=[[0.4], [0.6]])\n",
    "P_Q = TabularCPD(variable='Q',\n",
    "                 variable_card=3,\n",
    "                 values=[[0.2], [0.5], [0.3]])\n",
    "P_CgivenLQ = TabularCPD(variable='C',\n",
    "                        evidence=['L', 'Q'],\n",
    "                        variable_card=2,\n",
    "                        evidence_card=[2, 3],\n",
    "                        values=[[0.95, 0.4, 0.4, 0.9, 0.4, 0.2],\n",
    "                                [0.05, 0.6, 0.6, 0.1, 0.6, 0.8]])\n",
    "P_NgivenLC = TabularCPD(variable='N',\n",
    "                        evidence=['L', 'C'],\n",
    "                        variable_card=2,\n",
    "                        evidence_card=[2, 2],\n",
    "                        values=[[0.4, 0.9, 0.2, 0.4],\n",
    "                                [0.6, 0.1, 0.8, 0.6]])"
   ]
  },
  {
   "cell_type": "code",
   "execution_count": 8,
   "metadata": {},
   "outputs": [],
   "source": [
    "# Attach CPDs to the model\n",
    "restaurant.add_cpds(P_L, P_Q, P_CgivenLQ, P_NgivenLC)"
   ]
  },
  {
   "cell_type": "code",
   "execution_count": 9,
   "metadata": {},
   "outputs": [
    {
     "data": {
      "text/plain": [
       "True"
      ]
     },
     "execution_count": 9,
     "metadata": {},
     "output_type": "execute_result"
    }
   ],
   "source": [
    "# Check if the model is correctly defined\n",
    "restaurant.check_model()"
   ]
  },
  {
   "cell_type": "code",
   "execution_count": 10,
   "metadata": {},
   "outputs": [],
   "source": [
    "# Import pgmpy.inference.VariableElimination\n",
    "from pgmpy.inference import VariableElimination"
   ]
  },
  {
   "cell_type": "code",
   "execution_count": 11,
   "metadata": {},
   "outputs": [],
   "source": [
    "# Create VariableElimination inference object\n",
    "ve_inference = VariableElimination(restaurant)"
   ]
  },
  {
   "cell_type": "code",
   "execution_count": 12,
   "metadata": {},
   "outputs": [
    {
     "name": "stderr",
     "output_type": "stream",
     "text": [
      "Finding Elimination Order: : 100%|██████████| 1/1 [00:00<00:00, 563.90it/s]\n",
      "Eliminating: C: 100%|██████████| 1/1 [00:00<00:00, 677.70it/s]"
     ]
    },
    {
     "name": "stdout",
     "output_type": "stream",
     "text": [
      "{'N': 1}\n"
     ]
    },
    {
     "name": "stderr",
     "output_type": "stream",
     "text": [
      "\n"
     ]
    }
   ],
   "source": [
    "# Map query\n",
    "print(ve_inference.map_query(variables=['N'],\n",
    "                             evidence={'L': 1, 'Q': 2}))"
   ]
  },
  {
   "cell_type": "code",
   "execution_count": 13,
   "metadata": {},
   "outputs": [
    {
     "name": "stderr",
     "output_type": "stream",
     "text": [
      "Finding Elimination Order: : 100%|██████████| 1/1 [00:00<00:00, 536.56it/s]\n",
      "Eliminating: C: 100%|██████████| 1/1 [00:00<00:00, 443.19it/s]"
     ]
    },
    {
     "name": "stdout",
     "output_type": "stream",
     "text": [
      "0.6\n"
     ]
    },
    {
     "name": "stderr",
     "output_type": "stream",
     "text": [
      "\n"
     ]
    }
   ],
   "source": [
    "# Max marginal\n",
    "print(ve_inference.max_marginal(variables=['N'],\n",
    "                                evidence={'L': 1, 'Q': 2}))"
   ]
  },
  {
   "cell_type": "markdown",
   "metadata": {},
   "source": [
    "# 2. Max-sum Belief Propagation"
   ]
  },
  {
   "cell_type": "markdown",
   "metadata": {},
   "source": [
    "We start by a simple example"
   ]
  },
  {
   "cell_type": "markdown",
   "metadata": {},
   "source": [
    "### Max-sum elimination in chains\n",
    "\n",
    "Consider the following chain"
   ]
  },
  {
   "cell_type": "code",
   "execution_count": 14,
   "metadata": {},
   "outputs": [
    {
     "data": {
      "image/png": "[encoded data removed]",
      "text/plain": [
       "<IPython.core.display.Image object>"
      ]
     },
     "execution_count": 14,
     "metadata": {},
     "output_type": "execute_result"
    }
   ],
   "source": [
    "Image(\"figures/chain.png\")"
   ]
  },
  {
   "cell_type": "markdown",
   "metadata": {},
   "source": [
    "We want:\n",
    "\n",
    "$$\\begin{align}\n",
    "\\max_{D} \\max_{C} \\max_{B} \\max_{A} \\theta(A,B,C,D,E) & = \\max_{D} \\max_{C} \\max_{B} \\max_{A} \\theta(A,B,C,D,E) \\\\\n",
    "                                                      & = \\max_{D} \\max_{C} \\max_{B} \\max_{A} \\left(\\theta_1(A,B) + \\theta_2(B,C) + \\theta_3(C,D) + \\theta_4(D,E)\\right) \\\\\n",
    "                                                      & = \\max_{D} \\max_{C} \\max_{B} \\left(\\theta_2(B,C) + \\theta_3(C,D) + \\theta_4(D,E) + \\max_{A}\\theta_1(A,B)\\right)\n",
    "\\end{align}$$"
   ]
  },
  {
   "cell_type": "markdown",
   "metadata": {},
   "source": [
    "___\n",
    "**1. Sum of factors**\n",
    "\n",
    "$$\\phi_1(A, B)$$\n",
    "\n",
    "|   A   |   B   | $\\phi_1$ |\n",
    "| ----- | ----- | -------- |\n",
    "| $a^0$ | $b^0$ | 5        |\n",
    "| $a^0$ | $b^1$ | 8        |\n",
    "| $a^1$ | $b^0$ | 1        |\n",
    "| $a^1$ | $b^1$ | 0        |\n",
    "| $a^2$ | $b^0$ | 3        |\n",
    "| $a^2$ | $b^1$ | 9        |\n",
    "\n",
    "$$\\phi_2(B, C)$$\n",
    "\n",
    "|   B   |   C   | $\\phi_1$ |\n",
    "| ----- | ----- | -------- |\n",
    "| $b^0$ | $c^0$ | 5        |\n",
    "| $b^0$ | $c^1$ | 7        |\n",
    "| $b^1$ | $c^0$ | 1        |\n",
    "| $b^1$ | $c^1$ | 2        |\n",
    "\n",
    "$$\\phi_3(A, B, C) = \\phi_1(A, B) + \\phi_2(B, C)$$\n",
    "\n",
    "|   A   |   B   |   C   | $\\phi_3$     |\n",
    "| ----- | ----- | ----- | ------------ |\n",
    "| $a^0$ | $b^0$ | $c^0$ | $5 + 5 = 10$ |\n",
    "| $a^0$ | $b^0$ | $c^1$ | $5 + 7 = 12$ |\n",
    "| $a^0$ | $b^1$ | $c^0$ | $8 + 1 = 9$  |\n",
    "| $a^0$ | $b^1$ | $c^1$ | $8 + 2 = 10$ |\n",
    "| $a^1$ | $b^0$ | $c^0$ | $1 + 5 = 6$  |\n",
    "| $a^1$ | $b^0$ | $c^1$ | $1 + 7 = 8$  |\n",
    "| $a^1$ | $b^1$ | $c^0$ | $0 + 1 = 1$  |\n",
    "| $a^1$ | $b^1$ | $c^1$ | $0 + 2 = 2$  |\n",
    "| $a^2$ | $b^0$ | $c^0$ | $3 + 5 = 8$  |\n",
    "| $a^2$ | $b^0$ | $c^1$ | $3 + 7 = 10$ |\n",
    "| $a^2$ | $b^1$ | $c^0$ | $9 + 1 = 10$ |\n",
    "| $a^2$ | $b^1$ | $c^1$ | $9 + 2 = 11$ |"
   ]
  },
  {
   "cell_type": "markdown",
   "metadata": {},
   "source": [
    "**2. Max reduction**\n",
    "\n",
    "$$\\phi_3(A, B, C)$$\n",
    "\n",
    "|   A   |   B   |   C   | $\\phi_3$     |\n",
    "| ----- | ----- | ----- | ------------ |\n",
    "| $a^0$ | $b^0$ | $c^0$ | $5 + 5 = 10$ |\n",
    "| $a^0$ | $b^0$ | $c^1$ | $5 + 7 = 12$ |\n",
    "| $a^0$ | $b^1$ | $c^0$ | $8 + 1 = 9$  |\n",
    "| $a^0$ | $b^1$ | $c^1$ | $8 + 2 = 10$ |\n",
    "| $a^1$ | $b^0$ | $c^0$ | $1 + 5 = 6$  |\n",
    "| $a^1$ | $b^0$ | $c^1$ | $1 + 7 = 8$  |\n",
    "| $a^1$ | $b^1$ | $c^0$ | $0 + 1 = 1$  |\n",
    "| $a^1$ | $b^1$ | $c^1$ | $0 + 2 = 2$  |\n",
    "| $a^2$ | $b^0$ | $c^0$ | $3 + 5 = 8$  |\n",
    "| $a^2$ | $b^0$ | $c^1$ | $3 + 7 = 10$ |\n",
    "| $a^2$ | $b^1$ | $c^0$ | $9 + 1 = 10$ |\n",
    "| $a^2$ | $b^1$ | $c^1$ | $9 + 2 = 11$ |\n",
    "\n",
    "\n",
    "$$\\phi_4(A, B) = \\max_{C}\\phi_3(A, B, C)$$\n",
    "\n",
    "|   A   |   B   | $\\phi_3$     |\n",
    "| ----- | ----- | ------------ |\n",
    "| $a^0$ | $b^0$ | $5 + 7 = 12$ |\n",
    "| $a^0$ | $b^1$ | $8 + 2 = 10$ |\n",
    "| $a^1$ | $b^0$ | $1 + 7 = 8$  |\n",
    "| $a^1$ | $b^1$ | $0 + 2 = 2$  |\n",
    "| $a^2$ | $b^0$ | $3 + 7 = 10$ |\n",
    "| $a^2$ | $b^1$ | $9 + 2 = 11$ |\n",
    "\n",
    "___"
   ]
  },
  {
   "cell_type": "markdown",
   "metadata": {},
   "source": [
    "$$\\begin{align}\n",
    "\\max_{D} \\max_{C} \\max_{B} \\max_{A} \\theta(A,B,C,D,E) & = \\max_{D} \\max_{C} \\max_{B} \\max_{A} \\theta(A,B,C,D,E) \\\\\n",
    "                                                      & = \\max_{D} \\max_{C} \\max_{B} \\max_{A} \\left(\\theta_1(A,B) + \\theta_2(B,C) + \\theta_3(C,D) + \\theta_4(D,E)\\right) \\\\\n",
    "                                                      & = \\max_{D} \\max_{C} \\max_{B} \\left(\\theta_2(B,C) + \\theta_3(C,D) + \\theta_4(D,E) + \\max_{A}\\theta_1(A,B)\\right) \\\\\n",
    "                                                      & = \\max_{D} \\max_{C} \\max_{B} \\left(\\theta_2(B,C) + \\theta_3(C,D) + \\theta_4(D,E) + \\tau_1(B)\\right) \\\\\n",
    "                                                      & = \\max_{D} \\max_{C} \\left(\\theta_3(C,D) + \\theta_4(D,E) + \\max_{B} (\\theta_2(B,C)+ \\tau_1(B))\\right) \\\\\n",
    "                                                      & = \\max_{D} \\left(\\theta_4(D,E) + \\max_{C} (\\theta_3(C,D) + \\tau_2(C))\\right) \\\\\n",
    "                                                      & = \\max_{D} \\left(\\theta_4(D,E) + \\tau_3(D)\\right) \\\\\n",
    "                                                      & = \\tau_4(E)\n",
    "\\end{align}$$"
   ]
  },
  {
   "cell_type": "markdown",
   "metadata": {},
   "source": [
    "### Max-sum in clique trees\n",
    "\n",
    "Consider the clique tree of the above chain:"
   ]
  },
  {
   "cell_type": "code",
   "execution_count": 15,
   "metadata": {},
   "outputs": [
    {
     "data": {
      "image/png": "[encoded data removed]",
      "text/plain": [
       "<IPython.core.display.Image object>"
      ]
     },
     "execution_count": 15,
     "metadata": {},
     "output_type": "execute_result"
    }
   ],
   "source": [
    "Image(\"figures/clusterGraphChain.png\")"
   ]
  },
  {
   "cell_type": "markdown",
   "metadata": {},
   "source": [
    "The message passing has the same idea in this context:"
   ]
  },
  {
   "cell_type": "code",
   "execution_count": 16,
   "metadata": {},
   "outputs": [
    {
     "data": {
      "image/png": "[encoded data removed]",
      "text/plain": [
       "<IPython.core.display.Image object>"
      ]
     },
     "execution_count": 16,
     "metadata": {},
     "output_type": "execute_result"
    }
   ],
   "source": [
    "Image(\"figures/clusterGraphChain2.png\")"
   ]
  },
  {
   "cell_type": "markdown",
   "metadata": {},
   "source": [
    "Then, the forward-backward algorithm we defined for conditional probability queries in clique trees is exactly the same for MAP queries. \n",
    "\n",
    "We only have to change products by sums/products, and reduction by max-reductions."
   ]
  },
  {
   "cell_type": "markdown",
   "metadata": {},
   "source": [
    "How is this done in `pgmpy`?"
   ]
  },
  {
   "cell_type": "code",
   "execution_count": 17,
   "metadata": {},
   "outputs": [],
   "source": [
    "# Import pgmpy.inference.BeliefPropagation\n",
    "from pgmpy.inference import BeliefPropagation"
   ]
  },
  {
   "cell_type": "code",
   "execution_count": 18,
   "metadata": {},
   "outputs": [],
   "source": [
    "# Create BeliefPropagation inference object\n",
    "bp_inference = BeliefPropagation(restaurant)"
   ]
  },
  {
   "cell_type": "code",
   "execution_count": 19,
   "metadata": {},
   "outputs": [
    {
     "name": "stderr",
     "output_type": "stream",
     "text": [
      "Eliminating: C: 100%|██████████| 1/1 [00:00<00:00, 317.53it/s]"
     ]
    },
    {
     "name": "stdout",
     "output_type": "stream",
     "text": [
      "{'N': 1}\n"
     ]
    },
    {
     "name": "stderr",
     "output_type": "stream",
     "text": [
      "\n"
     ]
    }
   ],
   "source": [
    "# MAP query\n",
    "print(bp_inference.map_query(variables=['N'],\n",
    "                             evidence={'L': 1, 'Q': 2}))"
   ]
  },
  {
   "cell_type": "markdown",
   "metadata": {},
   "source": [
    "# 3. Application - Classification\n",
    "\n",
    "Let's use the example in the first class"
   ]
  },
  {
   "cell_type": "code",
   "execution_count": 20,
   "metadata": {},
   "outputs": [],
   "source": [
    "# Library imports (sklearn.datasets.load_iris, pandas y numpy)\n",
    "from sklearn.datasets import load_iris\n",
    "import pandas as pd\n",
    "import numpy as np"
   ]
  },
  {
   "cell_type": "code",
   "execution_count": 21,
   "metadata": {},
   "outputs": [
    {
     "data": {
      "text/html": [
       "<div>\n",
       "<style scoped>\n",
       "    .dataframe tbody tr th:only-of-type {\n",
       "        vertical-align: middle;\n",
       "    }\n",
       "\n",
       "    .dataframe tbody tr th {\n",
       "        vertical-align: top;\n",
       "    }\n",
       "\n",
       "    .dataframe thead th {\n",
       "        text-align: right;\n",
       "    }\n",
       "</style>\n",
       "<table border=\"1\" class=\"dataframe\">\n",
       "  <thead>\n",
       "    <tr style=\"text-align: right;\">\n",
       "      <th></th>\n",
       "      <th>sepal_length</th>\n",
       "      <th>sepal_width</th>\n",
       "      <th>target</th>\n",
       "    </tr>\n",
       "  </thead>\n",
       "  <tbody>\n",
       "    <tr>\n",
       "      <th>0</th>\n",
       "      <td>5</td>\n",
       "      <td>3</td>\n",
       "      <td>0</td>\n",
       "    </tr>\n",
       "    <tr>\n",
       "      <th>1</th>\n",
       "      <td>4</td>\n",
       "      <td>3</td>\n",
       "      <td>0</td>\n",
       "    </tr>\n",
       "    <tr>\n",
       "      <th>2</th>\n",
       "      <td>4</td>\n",
       "      <td>3</td>\n",
       "      <td>0</td>\n",
       "    </tr>\n",
       "    <tr>\n",
       "      <th>3</th>\n",
       "      <td>4</td>\n",
       "      <td>3</td>\n",
       "      <td>0</td>\n",
       "    </tr>\n",
       "    <tr>\n",
       "      <th>4</th>\n",
       "      <td>5</td>\n",
       "      <td>3</td>\n",
       "      <td>0</td>\n",
       "    </tr>\n",
       "    <tr>\n",
       "      <th>...</th>\n",
       "      <td>...</td>\n",
       "      <td>...</td>\n",
       "      <td>...</td>\n",
       "    </tr>\n",
       "    <tr>\n",
       "      <th>145</th>\n",
       "      <td>6</td>\n",
       "      <td>3</td>\n",
       "      <td>2</td>\n",
       "    </tr>\n",
       "    <tr>\n",
       "      <th>146</th>\n",
       "      <td>6</td>\n",
       "      <td>2</td>\n",
       "      <td>2</td>\n",
       "    </tr>\n",
       "    <tr>\n",
       "      <th>147</th>\n",
       "      <td>6</td>\n",
       "      <td>3</td>\n",
       "      <td>2</td>\n",
       "    </tr>\n",
       "    <tr>\n",
       "      <th>148</th>\n",
       "      <td>6</td>\n",
       "      <td>3</td>\n",
       "      <td>2</td>\n",
       "    </tr>\n",
       "    <tr>\n",
       "      <th>149</th>\n",
       "      <td>5</td>\n",
       "      <td>3</td>\n",
       "      <td>2</td>\n",
       "    </tr>\n",
       "  </tbody>\n",
       "</table>\n",
       "<p>150 rows × 3 columns</p>\n",
       "</div>"
      ],
      "text/plain": [
       "     sepal_length  sepal_width  target\n",
       "0               5            3       0\n",
       "1               4            3       0\n",
       "2               4            3       0\n",
       "3               4            3       0\n",
       "4               5            3       0\n",
       "..            ...          ...     ...\n",
       "145             6            3       2\n",
       "146             6            2       2\n",
       "147             6            3       2\n",
       "148             6            3       2\n",
       "149             5            3       2\n",
       "\n",
       "[150 rows x 3 columns]"
      ]
     },
     "execution_count": 21,
     "metadata": {},
     "output_type": "execute_result"
    }
   ],
   "source": [
    "# Data loading (integer parts, for simplicity)\n",
    "iris = load_iris()\n",
    "X = iris['data'][:, :2].astype(int)\n",
    "y = iris['target']\n",
    "df = pd.DataFrame(X, columns=['sepal_length', 'sepal_width'])\n",
    "df['target'] = y\n",
    "df"
   ]
  },
  {
   "cell_type": "markdown",
   "metadata": {},
   "source": [
    "| Type of flower | label  |\n",
    "| -------------- | ------ |\n",
    "| Setosa         | 0      |\n",
    "| Versicolor     | 1      |\n",
    "| Virginica      | 2      |"
   ]
  },
  {
   "cell_type": "code",
   "execution_count": 22,
   "metadata": {},
   "outputs": [],
   "source": [
    "# Import matplotlib.pyplot\n",
    "import matplotlib.pyplot as plt"
   ]
  },
  {
   "cell_type": "code",
   "execution_count": 23,
   "metadata": {},
   "outputs": [
    {
     "data": {
      "image/png": "[encoded data removed]",
      "text/plain": [
       "<Figure size 576x360 with 1 Axes>"
      ]
     },
     "metadata": {
      "needs_background": "light"
     },
     "output_type": "display_data"
    }
   ],
   "source": [
    "# Scatter plot (largo vs. ancho), color regarding type of flower. Add a bit of noise\n",
    "l = df['sepal_length'] + np.random.normal(0, 0.2, (len(df), ))\n",
    "w = df['sepal_width'] + np.random.normal(0, 0.2, (len(df), ))\n",
    "plt.figure(figsize=(8, 5))\n",
    "plt.scatter(l, w, c=['bgr'[c] for c in df['target']])\n",
    "plt.show()"
   ]
  },
  {
   "cell_type": "code",
   "execution_count": 24,
   "metadata": {},
   "outputs": [],
   "source": [
    "# Import sklearn.model_selection.train_test_split\n",
    "from sklearn.model_selection import train_test_split"
   ]
  },
  {
   "cell_type": "code",
   "execution_count": 25,
   "metadata": {},
   "outputs": [],
   "source": [
    "# Train/Test split\n",
    "X_train, X_test, y_train, y_test = train_test_split(X, y, test_size=0.2, shuffle=True)"
   ]
  },
  {
   "cell_type": "code",
   "execution_count": 26,
   "metadata": {},
   "outputs": [
    {
     "data": {
      "image/png": "[encoded data removed]",
      "text/plain": [
       "<IPython.core.display.Image object>"
      ]
     },
     "execution_count": 26,
     "metadata": {},
     "output_type": "execute_result"
    }
   ],
   "source": [
    "Image('figures/iris.png')"
   ]
  },
  {
   "cell_type": "code",
   "execution_count": 27,
   "metadata": {},
   "outputs": [],
   "source": [
    "# Flower model\n",
    "flower_model = BayesianModel([('T', 'W'), ('T', 'L')])"
   ]
  },
  {
   "cell_type": "code",
   "execution_count": 28,
   "metadata": {},
   "outputs": [
    {
     "data": {
      "text/html": [
       "<div>\n",
       "<style scoped>\n",
       "    .dataframe tbody tr th:only-of-type {\n",
       "        vertical-align: middle;\n",
       "    }\n",
       "\n",
       "    .dataframe tbody tr th {\n",
       "        vertical-align: top;\n",
       "    }\n",
       "\n",
       "    .dataframe thead th {\n",
       "        text-align: right;\n",
       "    }\n",
       "</style>\n",
       "<table border=\"1\" class=\"dataframe\">\n",
       "  <thead>\n",
       "    <tr style=\"text-align: right;\">\n",
       "      <th></th>\n",
       "      <th>L</th>\n",
       "      <th>W</th>\n",
       "      <th>T</th>\n",
       "    </tr>\n",
       "  </thead>\n",
       "  <tbody>\n",
       "    <tr>\n",
       "      <th>0</th>\n",
       "      <td>5</td>\n",
       "      <td>3</td>\n",
       "      <td>0</td>\n",
       "    </tr>\n",
       "    <tr>\n",
       "      <th>1</th>\n",
       "      <td>6</td>\n",
       "      <td>3</td>\n",
       "      <td>1</td>\n",
       "    </tr>\n",
       "    <tr>\n",
       "      <th>2</th>\n",
       "      <td>5</td>\n",
       "      <td>3</td>\n",
       "      <td>1</td>\n",
       "    </tr>\n",
       "    <tr>\n",
       "      <th>3</th>\n",
       "      <td>6</td>\n",
       "      <td>2</td>\n",
       "      <td>2</td>\n",
       "    </tr>\n",
       "    <tr>\n",
       "      <th>4</th>\n",
       "      <td>6</td>\n",
       "      <td>3</td>\n",
       "      <td>1</td>\n",
       "    </tr>\n",
       "  </tbody>\n",
       "</table>\n",
       "</div>"
      ],
      "text/plain": [
       "   L  W  T\n",
       "0  5  3  0\n",
       "1  6  3  1\n",
       "2  5  3  1\n",
       "3  6  2  2\n",
       "4  6  3  1"
      ]
     },
     "execution_count": 28,
     "metadata": {},
     "output_type": "execute_result"
    }
   ],
   "source": [
    "# Generate train frame\n",
    "train = pd.DataFrame(columns=['L', 'W', 'T'], index=range(len(y_train)))\n",
    "train.loc[:, ['L', 'W']] = X_train\n",
    "train.loc[:, 'T'] = y_train\n",
    "train.head()"
   ]
  },
  {
   "cell_type": "code",
   "execution_count": 29,
   "metadata": {},
   "outputs": [],
   "source": [
    "# Train model\n",
    "flower_model.fit(train)"
   ]
  },
  {
   "cell_type": "code",
   "execution_count": 30,
   "metadata": {},
   "outputs": [
    {
     "data": {
      "text/html": [
       "<div>\n",
       "<style scoped>\n",
       "    .dataframe tbody tr th:only-of-type {\n",
       "        vertical-align: middle;\n",
       "    }\n",
       "\n",
       "    .dataframe tbody tr th {\n",
       "        vertical-align: top;\n",
       "    }\n",
       "\n",
       "    .dataframe thead th {\n",
       "        text-align: right;\n",
       "    }\n",
       "</style>\n",
       "<table border=\"1\" class=\"dataframe\">\n",
       "  <thead>\n",
       "    <tr style=\"text-align: right;\">\n",
       "      <th></th>\n",
       "      <th>L</th>\n",
       "      <th>W</th>\n",
       "      <th>T</th>\n",
       "    </tr>\n",
       "  </thead>\n",
       "  <tbody>\n",
       "    <tr>\n",
       "      <th>0</th>\n",
       "      <td>5</td>\n",
       "      <td>3</td>\n",
       "      <td>0</td>\n",
       "    </tr>\n",
       "    <tr>\n",
       "      <th>1</th>\n",
       "      <td>6</td>\n",
       "      <td>3</td>\n",
       "      <td>1</td>\n",
       "    </tr>\n",
       "    <tr>\n",
       "      <th>2</th>\n",
       "      <td>6</td>\n",
       "      <td>2</td>\n",
       "      <td>2</td>\n",
       "    </tr>\n",
       "    <tr>\n",
       "      <th>3</th>\n",
       "      <td>5</td>\n",
       "      <td>3</td>\n",
       "      <td>0</td>\n",
       "    </tr>\n",
       "    <tr>\n",
       "      <th>4</th>\n",
       "      <td>6</td>\n",
       "      <td>3</td>\n",
       "      <td>2</td>\n",
       "    </tr>\n",
       "  </tbody>\n",
       "</table>\n",
       "</div>"
      ],
      "text/plain": [
       "   L  W  T\n",
       "0  5  3  0\n",
       "1  6  3  1\n",
       "2  6  2  2\n",
       "3  5  3  0\n",
       "4  6  3  2"
      ]
     },
     "execution_count": 30,
     "metadata": {},
     "output_type": "execute_result"
    }
   ],
   "source": [
    "# Generate test frame\n",
    "test = pd.DataFrame(columns=['L', 'W', 'T'], index=range(len(y_test)))\n",
    "test.loc[:, ['L', 'W']] = X_test\n",
    "test.loc[:, 'T'] = y_test\n",
    "test.head()"
   ]
  },
  {
   "cell_type": "code",
   "execution_count": 31,
   "metadata": {},
   "outputs": [
    {
     "name": "stderr",
     "output_type": "stream",
     "text": [
      "100%|██████████| 7/7 [00:00<00:00, 569.02it/s]\n"
     ]
    }
   ],
   "source": [
    "# Predict (MAP Assignment)\n",
    "y_pred = flower_model.predict(test.loc[:, ['L', 'W']])"
   ]
  },
  {
   "cell_type": "code",
   "execution_count": 32,
   "metadata": {},
   "outputs": [
    {
     "data": {
      "text/plain": [
       "0.7"
      ]
     },
     "execution_count": 32,
     "metadata": {},
     "output_type": "execute_result"
    }
   ],
   "source": [
    "# Accuracy\n",
    "(y_pred.values.T == y_test).sum() / len(y_test)"
   ]
  },
  {
   "cell_type": "markdown",
   "metadata": {},
   "source": [
    "# Announcements\n",
    "\n",
    "## 1. Homework, due on monday.\n",
    "\n",
    "## 2. Quizz the next class."
   ]
  },
  {
   "cell_type": "markdown",
   "metadata": {},
   "source": [
    "<script>\n",
    "  $(document).ready(function(){\n",
    "    $('div.prompt').hide();\n",
    "    $('div.back-to-top').hide();\n",
    "    $('nav#menubar').hide();\n",
    "    $('.breadcrumb').hide();\n",
    "    $('.hidden-print').hide();\n",
    "  });\n",
    "</script>\n",
    "\n",
    "<footer id=\"attribution\" style=\"float:right; color:#808080; background:#fff;\">\n",
    "Created with Jupyter by Esteban Jiménez Rodríguez.\n",
    "</footer>"
   ]
  }
 ],
 "metadata": {
  "kernelspec": {
   "display_name": "Python 3",
   "language": "python",
   "name": "python3"
  },
  "language_info": {
   "codemirror_mode": {
    "name": "ipython",
    "version": 3
   },
   "file_extension": ".py",
   "mimetype": "text/x-python",
   "name": "python",
   "nbconvert_exporter": "python",
   "pygments_lexer": "ipython3",
   "version": "3.7.6"
  }
 },
 "nbformat": 4,
 "nbformat_minor": 4
}
