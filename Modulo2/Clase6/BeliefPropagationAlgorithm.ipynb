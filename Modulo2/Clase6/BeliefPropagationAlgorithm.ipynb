{
 "cells": [
  {
   "cell_type": "markdown",
   "metadata": {},
   "source": [
    "\n",
    "\n",
    "# Belief propagation\n",
    "\n",
    "<img style=\"float: right; margin: 0px 0px 15px 15px;\" src=\"https://static.thenounproject.com/png/542457-200.png\" width=\"300px\" height=\"300px\" />\n",
    "\n",
    "> In this class, we study an alternative class of algorithms to the Variable Elimination algorithm, which is the message passing class of algorithms.\n",
    ">\n",
    "> Although the Message Passing algorithms are closely related to Variable Elimination in some ways, they also offer us additional flexibility in how we do the summation and factor product steps. This means that we may (potentially) come up with a lower complexity in some cases.\n",
    "\n",
    "> **Objetives:**\n",
    "> - To study the cluster graphs and how to pass messages between them.\n",
    "> - To describe the Belief Propagation algorithm algorithm.\n",
    "> - To analyze the properties of the Belief Propagation algorithm.\n",
    "> - To study the Belief Propagation algorihm in clique trees.\n",
    "\n",
    "> **References:**\n",
    "> - Probabilistic Graphical Models: Principles and Techniques, By Daphne Koller and Nir Friedman. Ch. 10.\n",
    "> - Mastering Probabilistic Graphical Models Using Python, By Ankur Ankan and Abinash Panda. Ch. 3.\n",
    "> - Probabilistic Graphical Models Specialization, offered through Coursera. Prof. Daphne Koller.\n",
    "\n",
    "\n",
    "<p style=\"text-align:right;\"> Imagen recuperada de: https://static.thenounproject.com/png/542457-200.png.</p>\n",
    "\n",
    "___"
   ]
  },
  {
   "cell_type": "markdown",
   "metadata": {},
   "source": [
    "> In the last class we studied how we can exploit the graphical structure to come up with an (Variable Elimination) algorithm that performs exact inference in an effective way.\n",
    ">\n",
    "> The main insight behind the VE algorithm is that the factorization of the distribution allows us to perform local operations on the factors.\n",
    ">\n",
    "> In this class, we exploit the same insight with a different class of algorithms.\n",
    "\n",
    "As in the previous class, we assume that we are dealing with a set of factors we have a set of factors $\\bar{\\Phi}=\\{\\phi_1(\\bar{X}_1), \\dots, \\phi_m(\\bar{X}_m)\\}$ over $\\bar{X}$, that define an (unnormalized) measure:\n",
    "\n",
    "$$\\tilde{P}_{\\bar{\\Phi}}(\\bar{X}) = \\prod_{\\phi_i\\in\\bar{\\Phi}} \\phi_i(\\bar{X}_i).$$"
   ]
  },
  {
   "cell_type": "markdown",
   "metadata": {},
   "source": [
    "# 1. Cluster Graph\n",
    "\n",
    "## 1. Cluster graphs"
   ]
  },
  {
   "cell_type": "markdown",
   "metadata": {},
   "source": [
    "We begin by defining the *cluster graphs*:\n",
    "\n",
    "> *Definition.* A **cluster graph** $\\mathcal{U}$ for a set of factors $\\bar{\\Phi}$ over $\\bar{X}$ is an undirected graph, whose nodes, say $i$, are associated with a subset of variables, say $\\bar{C}_i\\subset\\bar{X}$, which we call clusters.\n",
    "> \n",
    "> **Family preservation property:** Moreover, each factor $\\phi_k\\in\\bar{\\Phi}$ must be associated one and only one cluster $\\bar{C}_{\\alpha(k)}$ such that $\\mathrm{scope}[\\phi_k]\\subseteq \\bar{C}_{\\alpha(k)}$.\n",
    ">\n",
    "> Each edge between a pair of clusters $\\bar{C}_i$ and $\\bar{C}_j$ is associated with a **sepset** $\\bar{S}_{ij}\\subseteq \\bar{C}_i\\cap\\bar{C}_j$."
   ]
  },
  {
   "cell_type": "markdown",
   "metadata": {},
   "source": [
    "**Example.** Let's consider the pairwise MN:"
   ]
  },
  {
   "cell_type": "code",
   "execution_count": null,
   "metadata": {},
   "outputs": [],
   "source": [
    "from IPython.display import Image"
   ]
  },
  {
   "cell_type": "code",
   "execution_count": null,
   "metadata": {},
   "outputs": [],
   "source": [
    "Image(\"figures/clusterGraph.png\")"
   ]
  },
  {
   "cell_type": "markdown",
   "metadata": {},
   "source": [
    "**Example.** Consider following set of factors:\n",
    "\n",
    "$$\\bar{\\Phi}=\\{\\phi_1(A,B,C), \\phi_2(B,C), \\phi_3(B,D), \\phi_4(D,E), \\phi_5(B,E), \\phi_6(B,D), \\phi_7(B,D,F)\\}.$$\n",
    "\n",
    "Then, possible cluster graphs are ($\\alpha(1)=1$, $\\alpha(2)=2$, $\\alpha(3)=2$, $\\alpha(4)=5$, $\\alpha(5)=4$, $\\alpha(6)=3$, $\\alpha(7)=3$):"
   ]
  },
  {
   "cell_type": "code",
   "execution_count": null,
   "metadata": {},
   "outputs": [],
   "source": [
    "Image(\"figures/clusterGraph2.png\")"
   ]
  },
  {
   "cell_type": "code",
   "execution_count": null,
   "metadata": {},
   "outputs": [],
   "source": [
    "Image(\"figures/clusterGraph3.png\")"
   ]
  },
  {
   "cell_type": "markdown",
   "metadata": {},
   "source": [
    "- The idea behind the belief propagation algorithm is that clusters will \"talk\" to each other;\n",
    "- They are going to try to convince each other that what they think about a variable is correct."
   ]
  },
  {
   "cell_type": "markdown",
   "metadata": {},
   "source": [
    "## 1.2. Belief propagation algorithm\n",
    "\n",
    "Now that we know what a cluster graph is, we will describe the Belief Propagation algorithm:"
   ]
  },
  {
   "cell_type": "markdown",
   "metadata": {},
   "source": [
    "1. Assign each factor $\\phi_k \\in \\bar{\\Phi}$ to a cluster $C_{\\alpha(k)}$."
   ]
  },
  {
   "cell_type": "markdown",
   "metadata": {},
   "source": [
    "2. Construct initial potentials $\\psi_i(\\bar{C_i}) = \\prod_{k: \\alpha(k)=i} \\phi_k(\\bar{X}_k)$."
   ]
  },
  {
   "cell_type": "markdown",
   "metadata": {},
   "source": [
    "3. Initialize all messages $\\delta_{ij}(\\bar{S}_{ij})=1$."
   ]
  },
  {
   "cell_type": "markdown",
   "metadata": {},
   "source": [
    "4. Repeat:\n",
    "   - Select edge (i,j) and pass message\n",
    "   $$\\delta_{ij}(\\bar{S}_{ij}) = \\sum_{\\bar{C}_i\\setminus\\bar{S}_{ij}} \\psi_i(\\bar{C}_i) \\prod_{k\\in\\mathcal{N}_i \\setminus \\{j\\}} \\delta_{ki}(\\bar{S}_{ki}),$$\n",
    "   where $\\mathcal{N}_i$ are the set of neighboring nodes of node $i$.\n",
    "   \n",
    "   <font color=red>Explain</font>"
   ]
  },
  {
   "cell_type": "markdown",
   "metadata": {},
   "source": [
    "5. Compute beliefs:\n",
    "   \n",
    "   $$\\beta_i(\\bar{C}_i) = \\psi_i(\\bar{C}_i) \\prod_{k\\in\\mathcal{N}_i} \\delta_{ki}(\\bar{S}_{ki})$$"
   ]
  },
  {
   "cell_type": "markdown",
   "metadata": {},
   "source": [
    "### Important\n",
    "\n",
    "- This algorithm doesn't converge always.\n",
    "- When it does, it's only approximate, in the general case."
   ]
  },
  {
   "cell_type": "markdown",
   "metadata": {},
   "source": [
    "## 1.3. Properties of cluster graphs\n",
    "\n",
    "Until now, we know what the cluster graphs are, and how to pass messages between clusters to run the belief propagation algorithm.\n",
    "\n",
    "However, we don't know how to construct cluster graphs given a PGM yet. To this end, let's examine some properties that cluster graphs need to satisfy in order to support message passing:"
   ]
  },
  {
   "cell_type": "markdown",
   "metadata": {},
   "source": [
    "**1. Family preservation**\n",
    "\n",
    "Given a set of factors $\\bar{\\Phi}$, we assign each factor $\\phi_k\\in\\bar{\\Phi}$ to one and only one cluster $\\bar{C}_{\\alpha(k)}$ such that $\\mathrm{scope}[\\phi_k]\\subseteq \\bar{C}_{\\alpha(k)}$.\n",
    "\n",
    "- *All the information is used only once.*"
   ]
  },
  {
   "cell_type": "markdown",
   "metadata": {},
   "source": [
    "**2. Running intersection property**\n",
    "\n",
    "For each pair of clusters $\\bar{C}_i, \\bar{C}_j$, and a variable $X \\in \\bar{C}_i \\cap \\bar{C}_j$, there exists a unique path between $\\bar{C}_i$ and $\\bar{C}_j$ for which all clusters and sepsets contain $X$.\n",
    "\n",
    "- *The existence of such a path porevents the isolation of information about a variable*.\n",
    "- *The uniqueness prevents self-reinforcement feedback loops*.\n",
    "\n",
    "Equivalently: For any $X$, the set of clusters and sepsets that contain $X$ form a **tree**."
   ]
  },
  {
   "cell_type": "markdown",
   "metadata": {},
   "source": [
    "**Example.** Consider again the set of factors:\n",
    "\n",
    "$$\\bar{\\Phi}=\\{\\phi_1(A,B,C), \\phi_2(B,C), \\phi_3(B,D), \\phi_4(D,E), \\phi_5(B,E), \\phi_6(B,D), \\phi_7(B,D,F)\\}.$$\n",
    "\n",
    "$\\alpha(1)=1$, $\\alpha(2)=2$, $\\alpha(3)=2$, $\\alpha(4)=5$, $\\alpha(5)=4$, $\\alpha(6)=3$, $\\alpha(7)=3$.\n",
    "\n",
    "Then, the following cluster graph satisfies both, the family preservation and the running intersection properties."
   ]
  },
  {
   "cell_type": "code",
   "execution_count": null,
   "metadata": {},
   "outputs": [],
   "source": [
    "Image(\"figures/clusterGraph2.png\")"
   ]
  },
  {
   "cell_type": "markdown",
   "metadata": {},
   "source": [
    "What about this one?"
   ]
  },
  {
   "cell_type": "code",
   "execution_count": null,
   "metadata": {},
   "outputs": [],
   "source": [
    "Image(\"figures/clusterGraph4.png\")"
   ]
  },
  {
   "cell_type": "markdown",
   "metadata": {},
   "source": [
    "Is it a valid cluster graph?\n",
    "\n",
    "- No, because the running intersection property does not hold. For instance, taking clusters 1 and 2, and $B\\in \\bar{C}_1\\cap \\bar{C}_2$, there is not a unique path between clusters 1 and 2 such that all clusters and sepsets contain $B$ (paths: 1-2, 1-4-2)."
   ]
  },
  {
   "cell_type": "markdown",
   "metadata": {},
   "source": [
    "And this one?"
   ]
  },
  {
   "cell_type": "code",
   "execution_count": null,
   "metadata": {},
   "outputs": [],
   "source": [
    "Image(\"figures/clusterGraph5.png\")"
   ]
  },
  {
   "cell_type": "markdown",
   "metadata": {},
   "source": [
    "Is it a valid cluster graph?\n",
    "\n",
    "- No. Again, the running intersection property does not hold. This time, there does not exist a path between $\\bar{C}_1$ and $\\bar{C}_2$ such that all clusters and sepsets contain $B$."
   ]
  },
  {
   "cell_type": "markdown",
   "metadata": {},
   "source": [
    "**Bethe cluster graph**\n",
    "\n",
    "This type of cluster graphs always satisfy both properties.\n",
    "\n",
    "1. For each factor $\\phi_k\\in\\bar{\\Phi}$, assign a cluster $\\bar{C}_k$ such that $\\mathrm{scope}[\\phi_k]\\subseteq \\bar{C}_k$.\n",
    "2. For each variable $X_i$ assign a singleton cluster $\\{X_i\\}$.\n",
    "3. Add an edge $\\bar{C}_k - X_i$ if $X_i\\in\\bar{C}_k$."
   ]
  },
  {
   "cell_type": "markdown",
   "metadata": {},
   "source": [
    "For the example we were analyzing before (<font color=red>in the whiteboard, then show</font>):"
   ]
  },
  {
   "cell_type": "code",
   "execution_count": null,
   "metadata": {},
   "outputs": [],
   "source": [
    "# clusterGraph6\n",
    "Image(\"figures/clusterGraph6.png\")"
   ]
  },
  {
   "cell_type": "markdown",
   "metadata": {},
   "source": [
    "Although the correlations between factors is lost, the Bethe cluster graph provides an easy way to construct cluster graphs satisfying the properties of family preservation and running intersection."
   ]
  },
  {
   "cell_type": "markdown",
   "metadata": {},
   "source": [
    "## 1.4. Properties of belief propagation\n",
    "\n",
    "Now, we turn our attention to some properties that will allow to study convergence of the belief propagation algorithm."
   ]
  },
  {
   "cell_type": "markdown",
   "metadata": {},
   "source": [
    "**1. Calibration**\n",
    "\n",
    "Recall the pairwise MN:"
   ]
  },
  {
   "cell_type": "code",
   "execution_count": null,
   "metadata": {},
   "outputs": [],
   "source": [
    "Image(\"figures/clusterGraph.png\")"
   ]
  },
  {
   "cell_type": "markdown",
   "metadata": {},
   "source": [
    "The cluster beliefs are defined as:\n",
    "\n",
    "$$\\beta_i(\\bar{C}_i) = \\psi_i(\\bar{C}_i) \\prod_{k\\in\\mathcal{N}_i}\\delta_{ki}(\\bar{S}_{ki})$$\n",
    "\n",
    "For instance,\n",
    "\n",
    "$$\\beta_1(A,B) = \\psi_1(A,B) \\delta_{41}(A) \\delta_{21}(B)$$"
   ]
  },
  {
   "cell_type": "markdown",
   "metadata": {},
   "source": [
    "> *Definition.* A cluster graph is **calibrated** if every pair of adjacent clusters $\\bar{C}_i, \\bar{C}_j$ agree on their sepset $\\bar{S}_{ij}$:\n",
    "> \n",
    "> $$\\sum_{\\bar{C_i}\\setminus\\bar{S}_{ij}}\\beta_i(\\bar{C}_i) = \\sum_{\\bar{C_j}\\setminus\\bar{S}_{ij}}\\beta_j(\\bar{C}_j).$$\n",
    "\n",
    "This is, the cluster graph is calibrated if the marginal beliefs agree."
   ]
  },
  {
   "cell_type": "markdown",
   "metadata": {},
   "source": [
    "**2. Convergence**\n",
    "\n",
    "The convergence property refers to an *steady state achievement*.\n",
    "\n",
    "> *Definition.* A cluster graph has attained **convergence** if all the messages at the next time step equal the messages at the previous time step:\n",
    ">\n",
    "> $$\\delta_{ij}(\\bar{S}_{ij}) = \\delta_{ij}'(\\bar{S}_{ij})$$"
   ]
  },
  {
   "cell_type": "markdown",
   "metadata": {},
   "source": [
    "One important result is that **convergence implies calibration** (<font color=red>see in the whiteboard, then show</font>)\n",
    "\n",
    "\n",
    "<!--\n",
    "To see this, first recall that\n",
    "\n",
    "$$\\delta_{ij}'(\\bar{S}_{ij}) = \\sum_{\\bar{C}_i \\setminus\\bar{S}_{ij}} \\psi_i(\\bar{C}_i) \\prod_{k\\in\\mathcal{N}_i\\setminus\\{j\\}}\\delta_{ki}(\\bar{S}_{ki}) = \\sum_{\\bar{C}_i \\setminus\\bar{S}_{ij}} \\frac{\\beta_{ij}(\\bar{C}_i)}{\\delta_{ji}(\\bar{S}_{ji})}.$$\n",
    "\n",
    "Thus, assuming convergence:\n",
    "$$\\delta_{ij}(\\bar{S}_{ij}) \\delta_{ji}(\\bar{S}_{ji}) = \\sum_{\\bar{C}_i \\setminus\\bar{S}_{ij}} \\beta_{i}(\\bar{C}_i).$$\n",
    "\n",
    "Using the same sort of argument\n",
    "$$\\delta_{ji}(\\bar{S}_{ji}) \\delta_{ij}(\\bar{S}_{ij}) = \\sum_{\\bar{C}_j \\setminus\\bar{S}_{ji}} \\beta_{j}(\\bar{C}_j).$$\n",
    "\n",
    "Thus\n",
    "\n",
    "$$\\mu_{ij}(\\bar{S}_{ij}) := \\delta_{ij}(\\bar{S}_{ij}) \\delta_{ji}(\\bar{S}_{ji}) = \\sum_{\\bar{C}_i \\setminus\\bar{S}_{ij}} \\beta_{i}(\\bar{C}_i) = \\sum_{\\bar{C}_j \\setminus\\bar{S}_{ji}} \\beta_{j}(\\bar{C}_j).$$\n",
    "-->"
   ]
  },
  {
   "cell_type": "markdown",
   "metadata": {},
   "source": [
    "**3. Reparametrization**\n",
    "\n",
    "This property state that there is no loss of information in the message passing process.\n",
    "\n",
    "To see this, recall that:\n",
    "\n",
    "$$\\beta_i(\\bar{C}_i) = \\psi_i(\\bar{C}_i) \\prod_{k\\in\\mathcal{N}_i}\\delta_{ki}(\\bar{S}_{ki}),$$\n",
    "\n",
    "and\n",
    "\n",
    "$$\\mu_{ij}(\\bar{S}_{ij}) = \\delta_{ij}(\\bar{S}_{ij}) \\delta_{ji}(\\bar{S}_{ji}).$$"
   ]
  },
  {
   "cell_type": "markdown",
   "metadata": {},
   "source": [
    "Then,\n",
    "\n",
    "$$\\frac{\\prod_{i}\\beta_i(\\bar{C}_i)}{\\prod_{i,j} \\mu_{ij}(\\bar{S}_{ij})} = \\frac{\\prod_{i}\\psi_i(\\bar{C}_i) \\prod_{j\\in\\mathcal{N}_i}\\delta_{ji}(\\bar{S}_{ji})}{\\prod_{i,j} \\delta_{ij}(\\bar{S}_{ij})} = \\prod_{i}\\psi_i(\\bar{C}_i) = \\tilde{P}_{\\bar{\\Phi}}(\\bar{X}).$$"
   ]
  },
  {
   "cell_type": "markdown",
   "metadata": {},
   "source": [
    "___\n",
    "# 2. Belief Propagation in Clique Trees\n",
    "\n",
    "We know now that in the general case, the belief propagation algorithm don't work always.\n",
    "\n",
    "However, when applied over *clique trees*, the belief propagation algorithm has stronger performance guarantees:\n",
    "- Faster convergence.\n",
    "- Convergence to exact inference."
   ]
  },
  {
   "cell_type": "markdown",
   "metadata": {},
   "source": [
    "## 2.1. Message passing in trees\n",
    "\n",
    "Consider the following chain:"
   ]
  },
  {
   "cell_type": "code",
   "execution_count": null,
   "metadata": {},
   "outputs": [],
   "source": [
    "Image(\"figures/chain.png\")"
   ]
  },
  {
   "cell_type": "markdown",
   "metadata": {},
   "source": [
    "The following is a valid tree cluster graph for the above chain:"
   ]
  },
  {
   "cell_type": "code",
   "execution_count": null,
   "metadata": {},
   "outputs": [],
   "source": [
    "Image(\"figures/clusterGraphChain.png\")"
   ]
  },
  {
   "cell_type": "markdown",
   "metadata": {},
   "source": [
    "**How is the form of all the messages that will be passed over this tree cluster graph?**\n",
    "\n",
    "<font color = red>See in the whiteboard, then show.</font>"
   ]
  },
  {
   "cell_type": "code",
   "execution_count": null,
   "metadata": {},
   "outputs": [],
   "source": [
    "# clusterGraphChain2\n",
    "Image(\"figures/clusterGraphChain2.png\")"
   ]
  },
  {
   "cell_type": "markdown",
   "metadata": {},
   "source": [
    "Thus, it is not hard to realize that after a single run of the belief propagation algorithm in both directions, the beliefs converge to the correct marginals.\n",
    "\n",
    "For instance, consider cluster 3:\n",
    "\n",
    "$$\\begin{align}\n",
    "\\beta_3(C,D) & = \\psi_3(C,D) \\delta_{23}(C) \\delta_{43}(D) \\\\\n",
    "             & = \\psi_3(C,D) \\sum_{B} \\psi_2(B,C) \\delta_{12}(B) \\sum_{E} \\psi_4(D,E)\\\\\n",
    "             & = \\psi_3(C,D) \\sum_{B} \\psi_2(B,C) \\sum_{A} \\psi_1(A,B) \\sum_{E} \\psi_4(D,E)\\\\\n",
    "             & = \\tilde{P}_{\\bar{\\Phi}}(C,D)\n",
    "\\end{align}$$"
   ]
  },
  {
   "cell_type": "markdown",
   "metadata": {},
   "source": [
    "## 2.2. Clique trees\n",
    "\n",
    "The behavior in the chain cluster graph is also attained by *clique trees* structures.\n",
    "\n",
    "> *Definition.* A **clique tree** is an undirected tree such that:\n",
    ">\n",
    "> 1. Its nodes are clusters $\\bar{C}_i \\subset \\bar{X}$, which correspond to *cliques* in the original graphical model.\n",
    "> 2. The edges between $\\bar{C}_i$ and $\\bar{C}_j$ are associated with the sepset $\\bar{S}_{ij}=\\bar{C}_i \\cap \\bar{C}_j$.\n",
    "\n",
    "What is a *clique*?\n",
    "\n",
    "> *Definition.* A **clique** is a complete subgraph. This is, a portion of the complete graph where every two nodes are connected by some edge.\n",
    "\n",
    "When talking about cliques, we always consider the **induced undirected network** (Section 9.4.2.3, page 308)."
   ]
  },
  {
   "cell_type": "markdown",
   "metadata": {},
   "source": [
    "Of course, since clique trees are a special case of cluster graphs, they should satisfy both, the family preservation and the running intersection properties.\n",
    "\n",
    "The **running intersection property for clique trees** can be rewritten as:\n",
    "\n",
    "- For each pair of clusters $\\bar{C}_i, \\bar{C}_j$ and a variable $X\\in\\bar{C}_i \\cap \\bar{C}_j$, in the unique path between $\\bar{C}_i$ and $\\bar{C}_j$, all clusters and sepsets contain $X$."
   ]
  },
  {
   "cell_type": "markdown",
   "metadata": {},
   "source": [
    "**Example.**\n",
    "\n",
    "Consider the extended student network:"
   ]
  },
  {
   "cell_type": "code",
   "execution_count": null,
   "metadata": {},
   "outputs": [],
   "source": [
    "Image(\"figures/extendedStudent.png\")"
   ]
  },
  {
   "cell_type": "markdown",
   "metadata": {},
   "source": [
    "The induced graph for the bove Bayesian network is:"
   ]
  },
  {
   "cell_type": "code",
   "execution_count": null,
   "metadata": {},
   "outputs": [],
   "source": [
    "Image(\"figures/extendedStudentInduced.png\")"
   ]
  },
  {
   "cell_type": "markdown",
   "metadata": {},
   "source": [
    "Hence, a valid clique tree for this model is:"
   ]
  },
  {
   "cell_type": "code",
   "execution_count": null,
   "metadata": {},
   "outputs": [],
   "source": [
    "Image(\"figures/extendedStudentCliqueTree.png\")"
   ]
  },
  {
   "cell_type": "markdown",
   "metadata": {},
   "source": [
    "What is the form of the messages?"
   ]
  },
  {
   "cell_type": "markdown",
   "metadata": {},
   "source": [
    "### Running intersection property implies correctness\n",
    "\n",
    "- If a variable $X$ is marginalized (eliminated) when we pass the message $\\delta_{ij}$, then $X$ does not appear in the $\\bar{C}_j$ side of the clique tree.\n",
    "\n",
    "- So, in this case, the computation of the **belief propagation algorithm is a variant of the variable elimination algorithm**, and the resulting beliefs are guaranteed to be correct marginals of $\\tilde{P}_{\\bar{\\Phi}}$."
   ]
  },
  {
   "cell_type": "markdown",
   "metadata": {},
   "source": [
    "## 2.3. Clique tree algorithm computation\n",
    "\n",
    "Let's consider the chain example:"
   ]
  },
  {
   "cell_type": "code",
   "execution_count": null,
   "metadata": {},
   "outputs": [],
   "source": [
    "Image(\"figures/chain.png\")"
   ]
  },
  {
   "cell_type": "code",
   "execution_count": null,
   "metadata": {},
   "outputs": [],
   "source": [
    "Image(\"figures/clusterGraphChain2.png\")"
   ]
  },
  {
   "cell_type": "markdown",
   "metadata": {},
   "source": [
    "One can note some things:\n",
    "1. Once you compute $\\delta_{12}$, it never changes (instant convergence).\n",
    "\n",
    "2. For $\\delta_{23}$, wait for $\\delta_{12}$, then calculate and you get convergence.\n",
    "\n",
    "3. For $\\delta_{34}$, wait for $\\delta_{23}$, then calculate and you get convergence.\n",
    "\n",
    "4. The same happens in the opposite direction."
   ]
  },
  {
   "cell_type": "markdown",
   "metadata": {},
   "source": [
    "That is why this is known as **forward-backward algorithm**:\n",
    "\n",
    "- Once $\\bar{C}_i$ receives a final message from all neighbors, except $\\bar{C}_j$, then $\\delta_{ij}(\\bar{S}_{ij})$ is also final.\n",
    "\n",
    "- Messages from leaves of the tree are immediately final.\n",
    "\n",
    "- If messages are passed in the right order, you only need to pass $2(k-1)$ messages, where $k$ is the number of cluster.\n",
    "\n",
    "**Thus, you can compute the marginals over all variables at only twice the cost of one variable elimination over all variables.**"
   ]
  },
  {
   "cell_type": "markdown",
   "metadata": {},
   "source": [
    "___"
   ]
  },
  {
   "cell_type": "markdown",
   "metadata": {},
   "source": [
    "How to use belief propagation algorithm in pgmpy?\n",
    "\n",
    "Restaurant example"
   ]
  },
  {
   "cell_type": "code",
   "execution_count": null,
   "metadata": {},
   "outputs": [],
   "source": [
    "Image(\"figures/restaurant.png\")"
   ]
  },
  {
   "cell_type": "code",
   "execution_count": null,
   "metadata": {},
   "outputs": [],
   "source": [
    "# Import pgmpy.models.BayesianModel\n"
   ]
  },
  {
   "cell_type": "code",
   "execution_count": null,
   "metadata": {},
   "outputs": [],
   "source": [
    "# Import pgmpy.factors.discrete.TabularCPD\n"
   ]
  },
  {
   "cell_type": "code",
   "execution_count": null,
   "metadata": {},
   "outputs": [],
   "source": [
    "# Define model skeleton\n"
   ]
  },
  {
   "cell_type": "code",
   "execution_count": null,
   "metadata": {},
   "outputs": [],
   "source": [
    "# Define CPDs\n"
   ]
  },
  {
   "cell_type": "code",
   "execution_count": null,
   "metadata": {},
   "outputs": [],
   "source": [
    "# Attach CPDs to the model\n"
   ]
  },
  {
   "cell_type": "code",
   "execution_count": null,
   "metadata": {},
   "outputs": [],
   "source": [
    "# Check if the model is correctly defined\n"
   ]
  },
  {
   "cell_type": "code",
   "execution_count": null,
   "metadata": {},
   "outputs": [],
   "source": [
    "# Get a valid clique tree\n"
   ]
  },
  {
   "cell_type": "code",
   "execution_count": null,
   "metadata": {},
   "outputs": [],
   "source": [
    "# Type\n"
   ]
  },
  {
   "cell_type": "code",
   "execution_count": null,
   "metadata": {},
   "outputs": [],
   "source": [
    "# Nodes\n"
   ]
  },
  {
   "cell_type": "code",
   "execution_count": null,
   "metadata": {},
   "outputs": [],
   "source": [
    "# Edges\n"
   ]
  },
  {
   "cell_type": "code",
   "execution_count": null,
   "metadata": {},
   "outputs": [],
   "source": [
    "# Import pgmpy.inference.BeliefPropagation\n"
   ]
  },
  {
   "cell_type": "code",
   "execution_count": null,
   "metadata": {},
   "outputs": [],
   "source": [
    "# Create inference object\n"
   ]
  },
  {
   "cell_type": "code",
   "execution_count": null,
   "metadata": {},
   "outputs": [],
   "source": [
    "# Calibrate\n"
   ]
  },
  {
   "cell_type": "code",
   "execution_count": null,
   "metadata": {},
   "outputs": [],
   "source": [
    "# Get beliefs\n"
   ]
  },
  {
   "cell_type": "code",
   "execution_count": null,
   "metadata": {},
   "outputs": [],
   "source": []
  },
  {
   "cell_type": "code",
   "execution_count": null,
   "metadata": {},
   "outputs": [],
   "source": []
  },
  {
   "cell_type": "code",
   "execution_count": null,
   "metadata": {},
   "outputs": [],
   "source": [
    "# Perform query\n"
   ]
  },
  {
   "cell_type": "markdown",
   "metadata": {},
   "source": [
    "___"
   ]
  },
  {
   "cell_type": "markdown",
   "metadata": {},
   "source": [
    "## 2.4. Clique trees and variable elimination"
   ]
  },
  {
   "cell_type": "markdown",
   "metadata": {},
   "source": [
    "In the variable elimination algorithm we have:\n",
    "\n",
    "1. Each steps creates a factor $\\lambda_k$ through factor product.\n",
    "\n",
    "2. A variable is eliminated in $\\lambda_k$ to generate the new factor $\\tau_k$.\n",
    "\n",
    "3. $\\tau_k$ is used in the computation of other factors $\\lambda_j$."
   ]
  },
  {
   "cell_type": "markdown",
   "metadata": {},
   "source": [
    "From a clique tree perspective:\n",
    "\n",
    "1. The intermediate factors $\\lambda_k$ are the \"cliques\".\n",
    "\n",
    "2. $\\tau_k$ are \"messages\" generated by the clique $\\lambda_k$ and transmitted to another clique $\\lambda_j$."
   ]
  },
  {
   "cell_type": "markdown",
   "metadata": {},
   "source": [
    "Thus, the variable elimination algorithm defines the clique tree!\n",
    "\n",
    "- Define a cluster $\\bar{C}_i$ for each factor $\\lambda_i$ used in the computation.\n",
    "\n",
    "- Draw an edge $\\bar{C}_i - \\bar{C}_j$ if the factor generated from $\\lambda_i$ is used in the computation of $\\lambda_j$."
   ]
  },
  {
   "cell_type": "code",
   "execution_count": null,
   "metadata": {},
   "outputs": [],
   "source": [
    "Image(\"figures/cliqueTreeVE.png\")"
   ]
  },
  {
   "cell_type": "markdown",
   "metadata": {},
   "source": [
    "This clique tree satisfies both, the family preserving property and the running intersection property."
   ]
  },
  {
   "cell_type": "markdown",
   "metadata": {},
   "source": [
    "**Example**\n",
    "\n",
    "For the restaurant example of the last class:\n",
    "\n",
    "$$P(L,Q,C,N)= \\phi_L(L)\\phi_Q(Q)\\phi_C(C,L,Q)\\phi_N(N,L,C).$$\n",
    "\n",
    "1. Eliminate $Q$: $\\tau_1(C,L) = \\sum_{Q} \\underbrace{\\phi_Q(Q) \\phi_C(C,L,Q)}_{\\lambda_1(C,L,Q)}$.\n",
    "\n",
    "2. Eliminate $C$: $\\tau_2(N,L) = \\sum_{C} \\underbrace{\\phi_N(N,L,C)\\tau_1(C,L)}_{\\lambda_2(N,L,C)}$.\n",
    "\n",
    "3. Eliminate $L$: $\\tau_3(N) = \\sum_{L} \\underbrace{\\phi_L(L)\\tau_2(N,L)}_{\\lambda_3(N,L)}$.\n",
    "\n",
    "4. Eliminate $N$: $\\tau_4() = \\sum_{N} \\tau_3(N)$."
   ]
  },
  {
   "cell_type": "code",
   "execution_count": null,
   "metadata": {},
   "outputs": [],
   "source": [
    "Image(\"figures/cliqueTreeVE2.png\")"
   ]
  },
  {
   "cell_type": "markdown",
   "metadata": {},
   "source": [
    "Remove redundant cliques: variables that are subsets of adjacent cliques."
   ]
  },
  {
   "cell_type": "markdown",
   "metadata": {},
   "source": [
    "# Announcements\n",
    "\n",
    "## Quiz."
   ]
  },
  {
   "cell_type": "markdown",
   "metadata": {},
   "source": [
    "<script>\n",
    "  $(document).ready(function(){\n",
    "    $('div.prompt').hide();\n",
    "    $('div.back-to-top').hide();\n",
    "    $('nav#menubar').hide();\n",
    "    $('.breadcrumb').hide();\n",
    "    $('.hidden-print').hide();\n",
    "  });\n",
    "</script>\n",
    "\n",
    "<footer id=\"attribution\" style=\"float:right; color:#808080; background:#fff;\">\n",
    "Created with Jupyter by Esteban Jiménez Rodríguez.\n",
    "</footer>"
   ]
  }
 ],
 "metadata": {
  "kernelspec": {
   "display_name": "Python 3",
   "language": "python",
   "name": "python3"
  },
  "language_info": {
   "codemirror_mode": {
    "name": "ipython",
    "version": 3
   },
   "file_extension": ".py",
   "mimetype": "text/x-python",
   "name": "python",
   "nbconvert_exporter": "python",
   "pygments_lexer": "ipython3",
   "version": "3.7.6"
  }
 },
 "nbformat": 4,
 "nbformat_minor": 4
}
