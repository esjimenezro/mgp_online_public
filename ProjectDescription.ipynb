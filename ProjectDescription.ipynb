{
 "cells": [
  {
   "cell_type": "markdown",
   "metadata": {},
   "source": [
    "# Final project\n",
    "\n",
    "<img style=\"float: right; margin: 0px 0px 15px 15px;\" src=\"https://p0.pikrepo.com/preview/226/186/artificial-intelligence-concept.jpg\" width=\"350px\" height=\"180px\" />\n",
    "\n",
    "In the final proyect you will tackle some problem using a probabilistic graphical model that you will propose. You are allowed to use all the tools we saw throughout the course to this end, and then you will evaluate the performance of your model in terms of the problem.\n",
    "\n",
    "The project will be done by pairs.\n",
    "___"
   ]
  },
  {
   "cell_type": "markdown",
   "metadata": {},
   "source": [
    "## 1. Problem description\n",
    "\n",
    "First of all, you should clearly describe the problem you are trying to solve, and how the data is generated.\n",
    "\n",
    "Not only text should be included. A diagram of the situation, pictures or some visual material is of great help."
   ]
  },
  {
   "cell_type": "markdown",
   "metadata": {},
   "source": [
    "## 2. Probabilistic graphical model proposal\n",
    "\n",
    "Once you describe the problem, you should propose a PGM that attempts to model the situation of interest. This model can come from various sources:\n",
    "\n",
    "- The knowledge of an expert.\n",
    "- Your own knowledge.\n",
    "- Literature.\n",
    "- A structure learning scheme.\n",
    "\n",
    "In any case, you must document the whole process of construction of the model."
   ]
  },
  {
   "cell_type": "markdown",
   "metadata": {},
   "source": [
    "## 3. Model evaluation\n",
    "\n",
    "The problem might provide an inherent evaluation metric for the model you propose. If this is not the case, you should propose a metric to evaluate your model and justify why it is a proper metric for the specific problem you are trying to solve.\n",
    "\n",
    "According to this metric, you should evaluate your model. You may use a benchmark model for comparison purposes."
   ]
  },
  {
   "cell_type": "markdown",
   "metadata": {},
   "source": [
    "## 4. Presentation\n",
    "\n",
    "All the points described above must be done in a jupyter notebook (including the pieces of code you use), considering that you will present the project using that notebook."
   ]
  },
  {
   "cell_type": "markdown",
   "metadata": {},
   "source": [
    "<script>\n",
    "  $(document).ready(function(){\n",
    "    $('div.prompt').hide();\n",
    "    $('div.back-to-top').hide();\n",
    "    $('nav#menubar').hide();\n",
    "    $('.breadcrumb').hide();\n",
    "    $('.hidden-print').hide();\n",
    "  });\n",
    "</script>\n",
    "\n",
    "<footer id=\"attribution\" style=\"float:right; color:#808080; background:#fff;\">\n",
    "Created with Jupyter by Esteban Jiménez Rodríguez.\n",
    "</footer>"
   ]
  }
 ],
 "metadata": {
  "kernelspec": {
   "display_name": "Python 3",
   "language": "python",
   "name": "python3"
  },
  "language_info": {
   "codemirror_mode": {
    "name": "ipython",
    "version": 3
   },
   "file_extension": ".py",
   "mimetype": "text/x-python",
   "name": "python",
   "nbconvert_exporter": "python",
   "pygments_lexer": "ipython3",
   "version": "3.7.6"
  }
 },
 "nbformat": 4,
 "nbformat_minor": 4
}
